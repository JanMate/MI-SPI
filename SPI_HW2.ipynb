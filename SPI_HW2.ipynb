{
 "cells": [
  {
   "cell_type": "markdown",
   "metadata": {},
   "source": [
    "# Úkol 2"
   ]
  },
  {
   "cell_type": "markdown",
   "metadata": {},
   "source": [
    "## Autoři: Jan Kubát, Jan Matějka\n"
   ]
  },
  {
   "cell_type": "markdown",
   "metadata": {},
   "source": [
    "### Importy knihoven"
   ]
  },
  {
   "cell_type": "code",
   "execution_count": 28,
   "metadata": {},
   "outputs": [],
   "source": [
    "import pandas\n",
    "import scipy\n",
    "import matplotlib.pyplot as plt\n",
    "import numpy as np\n",
    "from scipy import stats\n",
    "from operator import itemgetter\n",
    "from collections import Counter\n",
    "import copy"
   ]
  },
  {
   "cell_type": "markdown",
   "metadata": {},
   "source": [
    "### Výpočet hodnot pro vstupní data "
   ]
  },
  {
   "cell_type": "code",
   "execution_count": 29,
   "metadata": {},
   "outputs": [
    {
     "name": "stdout",
     "output_type": "stream",
     "text": [
      "X =  1\n"
     ]
    }
   ],
   "source": [
    "K = 8\n",
    "L = len(\"Kubát\")\n",
    "X = ((K*L*23) % 20) + 1\n",
    "print(\"X = \",X)"
   ]
  },
  {
   "cell_type": "markdown",
   "metadata": {},
   "source": [
    "### 1. Z datového souboru načtěte text k analýze. Odhadněte pravděpodobnosti písmen (včetně mezer), které se v textu vyskytují. Takto získané empirické rozdělení graficky znázorněte. Pro další body předpokládejme, že je text vygenerován z homogenního markovského řetězce s diskrétním časem."
   ]
  },
  {
   "cell_type": "code",
   "execution_count": 30,
   "metadata": {},
   "outputs": [
    {
     "name": "stdout",
     "output_type": "stream",
     "text": [
      "Výčet znaků (včetně mezer) (X) a jejich četnost:\n",
      "    count letter\n",
      "0    1199       \n",
      "1     438      a\n",
      "2      96      b\n",
      "3     102      c\n",
      "4     303      d\n",
      "5     659      e\n",
      "6     137      f\n",
      "7     141      g\n",
      "8     337      h\n",
      "9     297      i\n",
      "10     15      j\n",
      "11     52      k\n",
      "12    249      l\n",
      "13    109      m\n",
      "14    355      n\n",
      "15    399      o\n",
      "16     91      p\n",
      "17      6      q\n",
      "18    350      r\n",
      "19    291      s\n",
      "20    436      t\n",
      "21    159      u\n",
      "22     30      v\n",
      "23    117      w\n",
      "24      1      x\n",
      "25     83      y\n",
      "26      6      z\n",
      "\n",
      "Součet počtu písmen řetězce X:  6458\n"
     ]
    }
   ],
   "source": [
    "# parsování vstupních souborů\n",
    "d = list()\n",
    "\n",
    "with open(\"hw1-source/\" + '{0:03d}'.format(X) + \".txt\") as f:\n",
    "    for line in f:\n",
    "        d.append(line)\n",
    "\n",
    "# třída Counter ze vstupního řetězce spočítá četnost jednotlivých znaků\n",
    "c = Counter(d[1])\n",
    "\n",
    "# vytvoření datové struktury k pohodlné práci s daty\n",
    "data_letters = pandas.DataFrame([{'count': a, 'letter': b}\n",
    "                  for b, a in sorted(c.most_common(), key = lambda val : val[0])\n",
    "                  if True])\n",
    "\n",
    "suma = sum(data_letters['count'])\n",
    "\n",
    "rel_data = copy.deepcopy(data_letters)\n",
    "rel_data.rename(columns={'count':'percentage'}, inplace=True)\n",
    "rel_data['percentage'] = (data_letters['count'] / suma) * 100\n",
    "\n",
    "print(\"Výčet znaků (včetně mezer) (X) a jejich četnost:\")\n",
    "print(data_letters)\n",
    "\n",
    "print('\\nSoučet počtu písmen řetězce X: ', suma )"
   ]
  },
  {
   "cell_type": "code",
   "execution_count": 31,
   "metadata": {},
   "outputs": [
    {
     "name": "stdout",
     "output_type": "stream",
     "text": [
      "\n",
      "Výčet znaků (včetně mezer) (X) a jejich relativní četnost v (%):\n",
      "    percentage letter\n",
      "0    18.566120       \n",
      "1     6.782286      a\n",
      "2     1.486528      b\n",
      "3     1.579436      c\n",
      "4     4.691855      d\n",
      "5    10.204398      e\n",
      "6     2.121400      f\n",
      "7     2.183338      g\n",
      "8     5.218334      h\n",
      "9     4.598947      i\n",
      "10    0.232270      j\n",
      "11    0.805203      k\n",
      "12    3.855683      l\n",
      "13    1.687829      m\n",
      "14    5.497058      n\n",
      "15    6.178383      o\n",
      "16    1.409105      p\n",
      "17    0.092908      q\n",
      "18    5.419635      r\n",
      "19    4.506039      s\n",
      "20    6.751316      t\n",
      "21    2.462063      u\n",
      "22    0.464540      v\n",
      "23    1.811706      w\n",
      "24    0.015485      x\n",
      "25    1.285228      y\n",
      "26    0.092908      z\n"
     ]
    }
   ],
   "source": [
    "print('\\nVýčet znaků (včetně mezer) (X) a jejich relativní četnost v (%):')\n",
    "print(rel_data)"
   ]
  },
  {
   "cell_type": "markdown",
   "metadata": {},
   "source": [
    "#### Zobrazeni grafu pro hodnotu X"
   ]
  },
  {
   "cell_type": "code",
   "execution_count": 32,
   "metadata": {},
   "outputs": [
    {
     "data": {
      "text/plain": [
       "Text(0.5, 0, 'Letters')"
      ]
     },
     "execution_count": 32,
     "metadata": {},
     "output_type": "execute_result"
    },
    {
     "data": {
      "image/png": "[encoded data removed]",
      "text/plain": [
       "<Figure size 432x288 with 1 Axes>"
      ]
     },
     "metadata": {
      "needs_background": "light"
     },
     "output_type": "display_data"
    }
   ],
   "source": [
    "plt.bar(rel_data['letter'], rel_data['percentage'])\n",
    "plt.ylabel('Probability (%)')\n",
    "plt.xlabel('Letters')"
   ]
  },
  {
   "cell_type": "code",
   "execution_count": 33,
   "metadata": {},
   "outputs": [],
   "source": [
    "#TODO !!!"
   ]
  },
  {
   "cell_type": "markdown",
   "metadata": {},
   "source": [
    "### 2. Za tohoto předpokladu odhadněte matici přechodu."
   ]
  },
  {
   "cell_type": "code",
   "execution_count": 34,
   "metadata": {},
   "outputs": [],
   "source": [
    "#TODO !!!"
   ]
  },
  {
   "cell_type": "markdown",
   "metadata": {},
   "source": [
    "### 3. Na základě matice z předchozího bodu najděte stacionární rozdělení tohoto řetězce."
   ]
  },
  {
   "cell_type": "code",
   "execution_count": 35,
   "metadata": {},
   "outputs": [],
   "source": [
    "#TODO !!!"
   ]
  },
  {
   "cell_type": "markdown",
   "metadata": {},
   "source": [
    "### 4. Porovnejte stacionární rozdělení se získaným empirickým rozdělením. Tj. na hladině 5% otestujte hypotézu, že se empirické rozdělení z bodu 1 rovná stacionárnímu rozdělení."
   ]
  },
  {
   "cell_type": "code",
   "execution_count": 36,
   "metadata": {},
   "outputs": [],
   "source": [
    "#TODO !!!"
   ]
  }
 ],
 "metadata": {
  "kernelspec": {
   "display_name": "Python 3",
   "language": "python",
   "name": "python3"
  },
  "language_info": {
   "codemirror_mode": {
    "name": "ipython",
    "version": 3
   },
   "file_extension": ".py",
   "mimetype": "text/x-python",
   "name": "python",
   "nbconvert_exporter": "python",
   "pygments_lexer": "ipython3",
   "version": "3.7.2"
  }
 },
 "nbformat": 4,
 "nbformat_minor": 2
}
