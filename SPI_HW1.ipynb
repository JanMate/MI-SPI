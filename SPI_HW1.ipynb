{
 "cells": [
  {
   "cell_type": "code",
   "execution_count": 249,
   "metadata": {},
   "outputs": [],
   "source": [
    "# autoři: Jan Kubát, Jan Matějka"
   ]
  },
  {
   "cell_type": "code",
   "execution_count": 250,
   "metadata": {},
   "outputs": [],
   "source": [
    "# importy potřebných knihoven\n",
    "import pandas\n",
    "import scipy\n",
    "import matplotlib.pyplot as plt\n",
    "import numpy as np\n",
    "from scipy import stats\n",
    "from operator import itemgetter\n",
    "from collections import Counter\n",
    "import copy"
   ]
  },
  {
   "cell_type": "code",
   "execution_count": 251,
   "metadata": {},
   "outputs": [],
   "source": [
    "# výpočet hodnot pro vstupní data\n",
    "K = 1 # TODO nutné upravit podle dne narození\n",
    "L = len(\"Kubát\")\n",
    "X = ((K*L*23) % 20) + 1\n",
    "Y = ((X + ((K*5 + L*7) % 19)) % 20) + 1"
   ]
  },
  {
   "cell_type": "code",
   "execution_count": 252,
   "metadata": {},
   "outputs": [
    {
     "name": "stdout",
     "output_type": "stream",
     "text": [
      "Prvních 20 slov v odstavci:\n",
      "            word  word_length\n",
      "0            the            3\n",
      "1       republic            8\n",
      "2        persons            7\n",
      "3             of            2\n",
      "4            the            3\n",
      "5       dialogue            8\n",
      "6       socrates            8\n",
      "7            who            3\n",
      "8             is            2\n",
      "9            the            3\n",
      "10      narrator            8\n",
      "11       glaucon            7\n",
      "12    adeimantus           10\n",
      "13   polemarchus           11\n",
      "14      cephalus            8\n",
      "15  thrasymachus           12\n",
      "16    cleitophon           10\n",
      "17           and            3\n",
      "18        others            6\n",
      "19           who            3\n"
     ]
    }
   ],
   "source": [
    "# 1. Z obou datových souborů načtěte texty k analýze. Pro každý text zvlášť odhadněte základní \n",
    "#    charakteristiky délek slov, tj. střední hodnotu a rozptyl. Graficky znázorněte rozdělení délek slov.\n",
    "\n",
    "# X)\n",
    "# parsování vstupního souboru\n",
    "d = list()\n",
    "with open(\"hw1-source/0\" + str(X) + \".txt\") as f:\n",
    "    for line in f:\n",
    "        d.append(line)\n",
    "        \n",
    "# vytvoření kolekce slov s jejich délkou\n",
    "words = d[1].split(\" \")\n",
    "words_with_len = list()\n",
    "for word in words:\n",
    "    words_with_len.append((len(word), word))\n",
    "\n",
    "# vytvoření datové struktury k pohodlné práci s daty\n",
    "data = pandas.DataFrame([{'word_length': a, 'word': b}\n",
    "                  for a, b in words_with_len\n",
    "                  if True])\n",
    "print(\"Prvních 20 slov v odstavci:\")\n",
    "print(data[:20])\n",
    "\n",
    "# příprava dat pro histogram\n",
    "data_grouped = data.groupby('word_length').count()"
   ]
  },
  {
   "cell_type": "code",
   "execution_count": 253,
   "metadata": {},
   "outputs": [
    {
     "name": "stdout",
     "output_type": "stream",
     "text": [
      "Střední hodnota: 4.0856\n",
      "Rozptyl: 5.15507264\n"
     ]
    }
   ],
   "source": [
    "print('Střední hodnota: ' + str(np.mean(data['word_length'])))\n",
    "print('Rozptyl: ' + str(np.var(data['word_length'])))"
   ]
  },
  {
   "cell_type": "code",
   "execution_count": 254,
   "metadata": {},
   "outputs": [
    {
     "name": "stdout",
     "output_type": "stream",
     "text": [
      "[ 60. 236. 355. 226. 111.  56.  79.  54.  31.  18.  17.   7.]\n"
     ]
    },
    {
     "data": {
      "image/png": "[encoded data removed]",
      "text/plain": [
       "<Figure size 432x288 with 1 Axes>"
      ]
     },
     "metadata": {
      "needs_background": "light"
     },
     "output_type": "display_data"
    }
   ],
   "source": [
    "# zobrazeni histogramu pro hodnotu X\n",
    "N, bins, patches = plt.hist(data['word_length'], bins=len(data_grouped), density = False)\n",
    "print(N)"
   ]
  },
  {
   "cell_type": "code",
   "execution_count": 255,
   "metadata": {},
   "outputs": [
    {
     "name": "stdout",
     "output_type": "stream",
     "text": [
      "Prvních 20 slov v odstavci:\n",
      "         word  word_length\n",
      "0     preface            7\n",
      "1          to            2\n",
      "2   pygmalion            9\n",
      "3           a            1\n",
      "4   professor            9\n",
      "5          of            2\n",
      "6   phonetics            9\n",
      "7          as            2\n",
      "8        will            4\n",
      "9          be            2\n",
      "10       seen            4\n",
      "11      later            5\n",
      "12         on            2\n",
      "13  pygmalion            9\n",
      "14      needs            5\n",
      "15        not            3\n",
      "16          a            1\n",
      "17    preface            7\n",
      "18        but            3\n",
      "19          a            1\n"
     ]
    }
   ],
   "source": [
    "# Y)\n",
    "# parsování vstupního souboru\n",
    "d = list()\n",
    "with open(\"hw1-source/0\" + str(Y) + \".txt\") as f:\n",
    "    for line in f:\n",
    "        d.append(line)\n",
    "        \n",
    "# vytvoření kolekce slov s jejich délkou\n",
    "words = d[1].split(\" \")\n",
    "words_with_len = list()\n",
    "for word in words:\n",
    "    words_with_len.append((len(word), word))\n",
    "\n",
    "# vytvoření datové struktury k pohodlné práci s daty\n",
    "data = pandas.DataFrame([{'word_length': a, 'word': b}\n",
    "                  for a, b in words_with_len\n",
    "                  if True])\n",
    "print(\"Prvních 20 slov v odstavci:\")\n",
    "print(data[:20])\n",
    "\n",
    "# příprava dat pro histogram\n",
    "data_grouped = data.groupby('word_length').count()"
   ]
  },
  {
   "cell_type": "code",
   "execution_count": 256,
   "metadata": {},
   "outputs": [
    {
     "name": "stdout",
     "output_type": "stream",
     "text": [
      "Střední hodnota: 4.643589743589744\n",
      "Rozptyl: 6.824253780407627\n"
     ]
    }
   ],
   "source": [
    "print('Střední hodnota: ' + str(np.mean(data['word_length'])))\n",
    "print('Rozptyl: ' + str(np.var(data['word_length'])))"
   ]
  },
  {
   "cell_type": "code",
   "execution_count": 257,
   "metadata": {},
   "outputs": [
    {
     "name": "stdout",
     "output_type": "stream",
     "text": [
      "[ 62. 210. 236. 149. 138.  92.  95.  61.  61.  37.  19.   7.   2.   1.]\n"
     ]
    },
    {
     "data": {
      "image/png": "[encoded data removed]",
      "text/plain": [
       "<Figure size 432x288 with 1 Axes>"
      ]
     },
     "metadata": {
      "needs_background": "light"
     },
     "output_type": "display_data"
    }
   ],
   "source": [
    "# zobrazeni histogramu pro hodnotu Y\n",
    "N, bins, patches = plt.hist(data['word_length'], bins=len(data_grouped), density = False)\n",
    "print(N)"
   ]
  },
  {
   "cell_type": "code",
   "execution_count": 258,
   "metadata": {},
   "outputs": [
    {
     "name": "stdout",
     "output_type": "stream",
     "text": [
      "Výčet znaků (bez mezery) a jejich četnost:\n",
      "    count letter\n",
      "0     455      a\n",
      "1      58      b\n",
      "2     151      c\n",
      "3     205      d\n",
      "4     638      e\n",
      "5     100      f\n",
      "6      91      g\n",
      "7     344      h\n",
      "8     321      i\n",
      "9       2      j\n",
      "10     21      k\n",
      "11    192      l\n",
      "12    135      m\n",
      "13    310      n\n",
      "14    427      o\n",
      "15     91      p\n",
      "16      8      q\n",
      "17    284      r\n",
      "18    331      s\n",
      "19    453      t\n",
      "20    189      u\n",
      "21     36      v\n",
      "22    132      w\n",
      "23      2      x\n",
      "24    131      y\n",
      "\n",
      "Součet počtu písmen řetězce:  5107\n",
      "\n",
      "Výčet znaků (bez mezery) a jejich relativní četnost v (%):\n",
      "        count letter\n",
      "0    8.909340      a\n",
      "1    1.135696      b\n",
      "2    2.956726      c\n",
      "3    4.014098      d\n",
      "4   12.492657      e\n",
      "5    1.958097      f\n",
      "6    1.781868      g\n",
      "7    6.735853      h\n",
      "8    6.285491      i\n",
      "9    0.039162      j\n",
      "10   0.411200      k\n",
      "11   3.759546      l\n",
      "12   2.643431      m\n",
      "13   6.070100      n\n",
      "14   8.361073      o\n",
      "15   1.781868      p\n",
      "16   0.156648      q\n",
      "17   5.560995      r\n",
      "18   6.481300      s\n",
      "19   8.870178      t\n",
      "20   3.700803      u\n",
      "21   0.704915      v\n",
      "22   2.584688      w\n",
      "23   0.039162      x\n",
      "24   2.565107      y\n"
     ]
    }
   ],
   "source": [
    "# 2. Pro každý text zvlášť odhadněte pravděpodobnosti písmen (symbolů mimo mezery), které se v textech vyskytují. \n",
    "#    Výsledné pravděpodobnosti graficky znázorněte.\n",
    "\n",
    "# X)\n",
    "# parsování vstupního souboru\n",
    "d = list()\n",
    "with open(\"hw1-source/0\" + str(X) + \".txt\") as f:\n",
    "    for line in f:\n",
    "        d.append(line)\n",
    "        \n",
    "# vytvoření kolekce slov s jejich délkou\n",
    "string = d[1].replace(\" \", \"\")\n",
    "\n",
    "# třída Counter ze vstupního řetězce spočítá četnost jednotlivých znaků\n",
    "c = Counter(string)\n",
    "\n",
    "# vytvoření datové struktury k pohodlné práci s daty\n",
    "data = pandas.DataFrame([{'count': a, 'letter': b}\n",
    "                  for b, a in sorted(c.most_common(), key = lambda val : val[0])\n",
    "                  if True])\n",
    "print(\"Výčet znaků (bez mezery) a jejich četnost:\")\n",
    "print(data)\n",
    "\n",
    "suma = sum(data['count'])\n",
    "print('\\nSoučet počtu písmen řetězce: ', suma )\n",
    "\n",
    "rel_data = copy.deepcopy(data)\n",
    "rel_data['count'] = (data['count'] / suma) * 100\n",
    "\n",
    "print('\\nVýčet znaků (bez mezery) a jejich relativní četnost v (%):')\n",
    "print(rel_data)"
   ]
  },
  {
   "cell_type": "code",
   "execution_count": 259,
   "metadata": {},
   "outputs": [
    {
     "data": {
      "text/plain": [
       "Text(0.5, 0, \"Index of letters from 'a'=0 to 'z'=25\")"
      ]
     },
     "execution_count": 259,
     "metadata": {},
     "output_type": "execute_result"
    },
    {
     "data": {
      "image/png": "[encoded data removed]",
      "text/plain": [
       "<Figure size 432x288 with 1 Axes>"
      ]
     },
     "metadata": {
      "needs_background": "light"
     },
     "output_type": "display_data"
    }
   ],
   "source": [
    "# zobrazeni grafu pro hodnotu X\n",
    "plt.plot(rel_data['count'], '*-')\n",
    "plt.ylabel('Probability (%)')\n",
    "plt.xlabel('Index of letters from \\'a\\'=0 to \\'z\\'=25')"
   ]
  },
  {
   "cell_type": "code",
   "execution_count": 260,
   "metadata": {},
   "outputs": [
    {
     "name": "stdout",
     "output_type": "stream",
     "text": [
      "Výčet znaků (bez mezery) a jejich četnost:\n",
      "    count letter\n",
      "0     443      a\n",
      "1      95      b\n",
      "2     159      c\n",
      "3     178      d\n",
      "4     669      e\n",
      "5      96      f\n",
      "6      95      g\n",
      "7     326      h\n",
      "8     425      i\n",
      "9      11      j\n",
      "10     29      k\n",
      "11    239      l\n",
      "12    140      m\n",
      "13    382      n\n",
      "14    366      o\n",
      "15    147      p\n",
      "16     10      q\n",
      "17    298      r\n",
      "18    374      s\n",
      "19    487      t\n",
      "20    156      u\n",
      "21     55      v\n",
      "22    112      w\n",
      "23     21      x\n",
      "24    109      y\n",
      "25     11      z\n",
      "\n",
      "Součet počtu písmen řetězce:  5433\n",
      "\n",
      "Výčet znaků (bez mezery) a jejich relativní četnost v (%):\n",
      "        count letter\n",
      "0    8.153874      a\n",
      "1    1.748574      b\n",
      "2    2.926560      c\n",
      "3    3.276275      d\n",
      "4   12.313639      e\n",
      "5    1.766980      f\n",
      "6    1.748574      g\n",
      "7    6.000368      h\n",
      "8    7.822566      i\n",
      "9    0.202466      j\n",
      "10   0.533775      k\n",
      "11   4.399043      l\n",
      "12   2.576845      m\n",
      "13   7.031106      n\n",
      "14   6.736610      o\n",
      "15   2.705687      p\n",
      "16   0.184060      q\n",
      "17   5.484999      r\n",
      "18   6.883858      s\n",
      "19   8.963740      t\n",
      "20   2.871342      u\n",
      "21   1.012332      v\n",
      "22   2.061476      w\n",
      "23   0.386527      x\n",
      "24   2.006258      y\n",
      "25   0.202466      z\n"
     ]
    }
   ],
   "source": [
    "# Y)\n",
    "# parsování vstupního souboru\n",
    "d = list()\n",
    "with open(\"hw1-source/0\" + str(Y) + \".txt\") as f:\n",
    "    for line in f:\n",
    "        d.append(line)\n",
    "        \n",
    "# vytvoření kolekce slov s jejich délkou\n",
    "string = d[1].replace(\" \", \"\")\n",
    "\n",
    "# třída Counter ze vstupního řetězce spočítá četnost jednotlivých znaků\n",
    "c = Counter(string)\n",
    "\n",
    "# vytvoření datové struktury k pohodlné práci s daty\n",
    "data = pandas.DataFrame([{'count': a, 'letter': b}\n",
    "                  for b, a in sorted(c.most_common(), key = lambda val : val[0])\n",
    "                  if True])\n",
    "print(\"Výčet znaků (bez mezery) a jejich četnost:\")\n",
    "print(data)\n",
    "\n",
    "suma = sum(data['count'])\n",
    "print('\\nSoučet počtu písmen řetězce: ', suma )\n",
    "\n",
    "rel_data = copy.deepcopy(data)\n",
    "rel_data['count'] = (data['count'] / suma) * 100\n",
    "\n",
    "print('\\nVýčet znaků (bez mezery) a jejich relativní četnost v (%):')\n",
    "print(rel_data)"
   ]
  },
  {
   "cell_type": "code",
   "execution_count": 261,
   "metadata": {},
   "outputs": [
    {
     "data": {
      "text/plain": [
       "Text(0.5, 0, \"Index of letters from 'a'=0 to 'z'=25\")"
      ]
     },
     "execution_count": 261,
     "metadata": {},
     "output_type": "execute_result"
    },
    {
     "data": {
      "image/png": "[encoded data removed]",
      "text/plain": [
       "<Figure size 432x288 with 1 Axes>"
      ]
     },
     "metadata": {
      "needs_background": "light"
     },
     "output_type": "display_data"
    }
   ],
   "source": [
    "# zobrazeni grafu pro hodnotu Y\n",
    "plt.plot(rel_data['count'], '*-')\n",
    "plt.ylabel('Probability (%)')\n",
    "plt.xlabel('Index of letters from \\'a\\'=0 to \\'z\\'=25')"
   ]
  },
  {
   "cell_type": "code",
   "execution_count": 262,
   "metadata": {},
   "outputs": [],
   "source": [
    "# 3. Na hladině významnosti 5% otestujte hypotézu, že rozdělení délek slov nezávisí na tom, o který jde text. \n",
    "#    Určete také p-hodnotu testu.\n",
    "\n",
    "# X)"
   ]
  },
  {
   "cell_type": "code",
   "execution_count": null,
   "metadata": {},
   "outputs": [],
   "source": []
  }
 ],
 "metadata": {
  "kernelspec": {
   "display_name": "Python 3",
   "language": "python",
   "name": "python3"
  },
  "language_info": {
   "codemirror_mode": {
    "name": "ipython",
    "version": 3
   },
   "file_extension": ".py",
   "mimetype": "text/x-python",
   "name": "python",
   "nbconvert_exporter": "python",
   "pygments_lexer": "ipython3",
   "version": "3.7.2"
  }
 },
 "nbformat": 4,
 "nbformat_minor": 2
}
