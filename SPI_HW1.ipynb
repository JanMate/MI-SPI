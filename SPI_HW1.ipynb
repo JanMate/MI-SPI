{
 "cells": [
  {
   "cell_type": "markdown",
   "metadata": {},
   "source": [
    "# Úkol 1"
   ]
  },
  {
   "cell_type": "markdown",
   "metadata": {},
   "source": [
    "## Autoři: Jan Kubát, Jan Matějka"
   ]
  },
  {
   "cell_type": "markdown",
   "metadata": {},
   "source": [
    "### Importy knihoven"
   ]
  },
  {
   "cell_type": "code",
   "execution_count": 1,
   "metadata": {},
   "outputs": [],
   "source": [
    "import pandas\n",
    "import scipy\n",
    "import matplotlib.pyplot as plt\n",
    "import numpy as np\n",
    "from scipy import stats\n",
    "from operator import itemgetter\n",
    "from collections import Counter\n",
    "import copy"
   ]
  },
  {
   "cell_type": "markdown",
   "metadata": {},
   "source": [
    "### Výpočet hodnot pro vstupní data"
   ]
  },
  {
   "cell_type": "code",
   "execution_count": 2,
   "metadata": {},
   "outputs": [
    {
     "name": "stdout",
     "output_type": "stream",
     "text": [
      "X =  1\n",
      "Y =  20\n"
     ]
    }
   ],
   "source": [
    "K = 8\n",
    "L = len(\"Kubát\")\n",
    "X = ((K*L*23) % 20) + 1\n",
    "Y = ((X + ((K*5 + L*7) % 19)) % 20) + 1\n",
    "print(\"X = \",X)\n",
    "print(\"Y = \",Y)"
   ]
  },
  {
   "cell_type": "markdown",
   "metadata": {},
   "source": [
    "### 1. Z obou datových souborů načtěte texty k analýze. Pro každý text zvlášť odhadněte základní charakteristiky délek slov, tj. střední hodnotu a rozptyl. Graficky znázorněte rozdělení délek slov."
   ]
  },
  {
   "cell_type": "code",
   "execution_count": 3,
   "metadata": {},
   "outputs": [
    {
     "name": "stdout",
     "output_type": "stream",
     "text": [
      "Prvních 20 slov v odstavci (X):\n",
      "        word  word_length\n",
      "0        the            3\n",
      "1   children            8\n",
      "2     called            6\n",
      "3        him            3\n",
      "4    pierrot            7\n",
      "5       from            4\n",
      "6        the            3\n",
      "7      first            5\n",
      "8       that            4\n",
      "9         is            2\n",
      "10        of            2\n",
      "11    course            6\n",
      "12        no            2\n",
      "13    proper            6\n",
      "14      name            4\n",
      "15       for            3\n",
      "16         a            1\n",
      "17   flemish            7\n",
      "18       dog            3\n",
      "19       but            3 \n",
      "\n",
      "\n",
      "Prvních 20 slov v odstavci (Y):\n",
      "           word  word_length\n",
      "0           one            3\n",
      "1       morning            7\n",
      "2          when            4\n",
      "3        gregor            6\n",
      "4         samsa            5\n",
      "5          woke            4\n",
      "6          from            4\n",
      "7      troubled            8\n",
      "8        dreams            6\n",
      "9            he            2\n",
      "10        found            5\n",
      "11      himself            7\n",
      "12  transformed           11\n",
      "13           in            2\n",
      "14          his            3\n",
      "15          bed            3\n",
      "16         into            4\n",
      "17            a            1\n",
      "18     horrible            8\n",
      "19       vermin            6\n"
     ]
    }
   ],
   "source": [
    "# parsování vstupních souborů\n",
    "d_X = list()\n",
    "d_Y = list()\n",
    "\n",
    "with open(\"hw1-source/\" + '{0:03d}'.format(X) + \".txt\") as f_X:\n",
    "    for line_X in f_X:\n",
    "        d_X.append(line_X)\n",
    "\n",
    "with open(\"hw1-source/\" + '{0:03d}'.format(Y) + \".txt\") as f_Y:\n",
    "    for line_Y in f_Y:\n",
    "        d_Y.append(line_Y)\n",
    "        \n",
    "# vytvoření kolekce slov s jejich délkou\n",
    "words_X = d_X[1].split(\" \")\n",
    "words_X_with_len = list()\n",
    "for word_X in words_X:\n",
    "    words_X_with_len.append((len(word_X), word_X))\n",
    "\n",
    "words_Y = d_Y[1].split(\" \")\n",
    "words_Y_with_len = list()\n",
    "for word_Y in words_Y:\n",
    "    words_Y_with_len.append((len(word_Y), word_Y))\n",
    "\n",
    "# vytvoření datové struktury k pohodlné práci s daty\n",
    "data_X = pandas.DataFrame([{'word_length': a_X, 'word': b_X}\n",
    "                  for a_X, b_X in words_X_with_len\n",
    "                  if True])\n",
    "\n",
    "data_Y = pandas.DataFrame([{'word_length': a_Y, 'word': b_Y}\n",
    "                  for a_Y, b_Y in words_Y_with_len\n",
    "                  if True])\n",
    "\n",
    "print(\"Prvních 20 slov v odstavci (X):\")\n",
    "print(data_X[:20],\"\\n\\n\")\n",
    "\n",
    "print(\"Prvních 20 slov v odstavci (Y):\")\n",
    "print(data_Y[:20])\n",
    "\n",
    "# příprava dat pro histogram\n",
    "data_X_grouped = data_X.groupby('word_length').count()\n",
    "data_Y_grouped = data_Y.groupby('word_length').count()"
   ]
  },
  {
   "cell_type": "code",
   "execution_count": 4,
   "metadata": {},
   "outputs": [
    {
     "name": "stdout",
     "output_type": "stream",
     "text": [
      "Střední hodnota X: 4.3825\n",
      "Rozptyl X: 4.13619375\n",
      "\n",
      "Střední hodnota Y: 4.043636363636364\n",
      "Rozptyl Y: 4.329004958677686\n"
     ]
    }
   ],
   "source": [
    "print('Střední hodnota X: ' + str(np.mean(data_X['word_length'])))\n",
    "print('Rozptyl X: ' + str(np.var(data_X['word_length'])))\n",
    "print()\n",
    "print('Střední hodnota Y: ' + str(np.mean(data_Y['word_length'])))\n",
    "print('Rozptyl Y: ' + str(np.var(data_Y['word_length'])))"
   ]
  },
  {
   "cell_type": "markdown",
   "metadata": {},
   "source": [
    "#### Zobrazeni histogramu pro X"
   ]
  },
  {
   "cell_type": "code",
   "execution_count": 5,
   "metadata": {},
   "outputs": [
    {
     "data": {
      "text/plain": [
       "Text(0,0.5,'Counts of the words')"
      ]
     },
     "execution_count": 5,
     "metadata": {},
     "output_type": "execute_result"
    },
    {
     "data": {
      "image/png": "[encoded data removed]",
      "text/plain": [
       "<Figure size 432x288 with 1 Axes>"
      ]
     },
     "metadata": {
      "needs_background": "light"
     },
     "output_type": "display_data"
    }
   ],
   "source": [
    "N_X, bins, patches = plt.hist(data_X['word_length'], bins=len(data_X_grouped), density = False)\n",
    "plt.xlabel('Words\\' lengths')\n",
    "plt.ylabel('Counts of the words')"
   ]
  },
  {
   "cell_type": "markdown",
   "metadata": {},
   "source": [
    "#### Zobrazeni histogramu pro Y"
   ]
  },
  {
   "cell_type": "code",
   "execution_count": 6,
   "metadata": {
    "scrolled": true
   },
   "outputs": [
    {
     "data": {
      "text/plain": [
       "Text(0,0.5,'Counts of the words')"
      ]
     },
     "execution_count": 6,
     "metadata": {},
     "output_type": "execute_result"
    },
    {
     "data": {
      "image/png": "[encoded data removed]",
      "text/plain": [
       "<Figure size 432x288 with 1 Axes>"
      ]
     },
     "metadata": {
      "needs_background": "light"
     },
     "output_type": "display_data"
    }
   ],
   "source": [
    "N_Y, bins, patches = plt.hist(data_Y['word_length'], bins=len(data_Y_grouped), density = False)\n",
    "plt.xlabel('Words\\' lengths')\n",
    "plt.ylabel('Counts of the words')"
   ]
  },
  {
   "cell_type": "markdown",
   "metadata": {},
   "source": [
    "   "
   ]
  },
  {
   "cell_type": "markdown",
   "metadata": {},
   "source": [
    "### 2. Pro každý text zvlášť odhadněte pravděpodobnosti písmen (symbolů mimo mezery), které se v textech vyskytují. Výsledné pravděpodobnosti graficky znázorněte."
   ]
  },
  {
   "cell_type": "code",
   "execution_count": 7,
   "metadata": {},
   "outputs": [
    {
     "name": "stdout",
     "output_type": "stream",
     "text": [
      "Výčet znaků (bez mezery) (X) a jejich četnost:\n",
      "    count letter\n",
      "0     438      a\n",
      "1      96      b\n",
      "2     102      c\n",
      "3     303      d\n",
      "4     659      e\n",
      "5     137      f\n",
      "6     141      g\n",
      "7     337      h\n",
      "8     297      i\n",
      "9      15      j\n",
      "10     52      k\n",
      "11    249      l\n",
      "12    109      m\n",
      "13    355      n\n",
      "14    399      o\n",
      "15     91      p\n",
      "16      6      q\n",
      "17    350      r\n",
      "18    291      s\n",
      "19    436      t\n",
      "20    159      u\n",
      "21     30      v\n",
      "22    117      w\n",
      "23      1      x\n",
      "24     83      y\n",
      "25      6      z\n",
      "\n",
      "Součet počtu písmen řetězce X:  5259\n"
     ]
    }
   ],
   "source": [
    "# vytvoření kolekce slov s jejich délkou\n",
    "string_X = d_X[1].replace(\" \", \"\")\n",
    "string_Y = d_Y[1].replace(\" \", \"\")\n",
    "\n",
    "# třída Counter ze vstupního řetězce spočítá četnost jednotlivých znaků\n",
    "c_X = Counter(string_X)\n",
    "c_Y = Counter(string_Y)\n",
    "\n",
    "# vytvoření datové struktury k pohodlné práci s daty\n",
    "data_X_letters = pandas.DataFrame([{'count': a, 'letter': b}\n",
    "                  for b, a in sorted(c_X.most_common(), key = lambda val : val[0])\n",
    "                  if True])\n",
    "data_Y_letters = pandas.DataFrame([{'count': a, 'letter': b}\n",
    "                  for b, a in sorted(c_Y.most_common(), key = lambda val : val[0])\n",
    "                  if True])\n",
    "\n",
    "suma_X = sum(data_X_letters['count'])\n",
    "suma_Y = sum(data_Y_letters['count'])\n",
    "\n",
    "rel_data_X = copy.deepcopy(data_X_letters)\n",
    "rel_data_X.rename(columns={'count':'percentage'}, inplace=True)\n",
    "rel_data_X['percentage'] = (data_X_letters['count'] / suma_X) * 100\n",
    "\n",
    "rel_data_Y = copy.deepcopy(data_Y_letters)\n",
    "rel_data_Y.rename(columns={'count':'percentage'}, inplace=True)\n",
    "rel_data_Y['percentage'] = (data_Y_letters['count'] / suma_Y) * 100\n",
    "\n",
    "print(\"Výčet znaků (bez mezery) (X) a jejich četnost:\")\n",
    "print(data_X_letters)\n",
    "\n",
    "print('\\nSoučet počtu písmen řetězce X: ', suma_X )"
   ]
  },
  {
   "cell_type": "markdown",
   "metadata": {},
   "source": [
    "  "
   ]
  },
  {
   "cell_type": "code",
   "execution_count": 8,
   "metadata": {},
   "outputs": [
    {
     "name": "stdout",
     "output_type": "stream",
     "text": [
      "\n",
      "Výčet znaků (bez mezery) (X) a jejich relativní četnost v (%):\n",
      "    percentage letter\n",
      "0     8.328580      a\n",
      "1     1.825442      b\n",
      "2     1.939532      c\n",
      "3     5.761552      d\n",
      "4    12.530899      e\n",
      "5     2.605058      f\n",
      "6     2.681118      g\n",
      "7     6.408062      h\n",
      "8     5.647461      i\n",
      "9     0.285225      j\n",
      "10    0.988781      k\n",
      "11    4.734740      l\n",
      "12    2.072637      m\n",
      "13    6.750333      n\n",
      "14    7.586994      o\n",
      "15    1.730367      p\n",
      "16    0.114090      q\n",
      "17    6.655258      r\n",
      "18    5.533371      s\n",
      "19    8.290550      t\n",
      "20    3.023388      u\n",
      "21    0.570451      v\n",
      "22    2.224758      w\n",
      "23    0.019015      x\n",
      "24    1.578247      y\n",
      "25    0.114090      z\n"
     ]
    }
   ],
   "source": [
    "print('\\nVýčet znaků (bez mezery) (X) a jejich relativní četnost v (%):')\n",
    "print(rel_data_X)"
   ]
  },
  {
   "cell_type": "code",
   "execution_count": 9,
   "metadata": {},
   "outputs": [
    {
     "name": "stdout",
     "output_type": "stream",
     "text": [
      "Výčet znaků (bez mezery) (Y) a jejich četnost:\n",
      "    count letter\n",
      "0     341      a\n",
      "1      77      b\n",
      "2     110      c\n",
      "3     182      d\n",
      "4     550      e\n",
      "5     106      f\n",
      "6     105      g\n",
      "7     308      h\n",
      "8     284      i\n",
      "9       3      j\n",
      "10     47      k\n",
      "11    229      l\n",
      "12     95      m\n",
      "13    258      n\n",
      "14    342      o\n",
      "15     70      p\n",
      "16      7      q\n",
      "17    222      r\n",
      "18    269      s\n",
      "19    446      t\n",
      "20    151      u\n",
      "21     59      v\n",
      "22    102      w\n",
      "23      7      x\n",
      "24     75      y\n",
      "25      3      z\n",
      "\n",
      "Součet počtu písmen řetězce Y:  4448\n",
      "\n",
      "Výčet znaků (bez mezery) (Y) a jejich relativní četnost v (%):\n",
      "    percentage letter\n",
      "0     7.666367      a\n",
      "1     1.731115      b\n",
      "2     2.473022      c\n",
      "3     4.091727      d\n",
      "4    12.365108      e\n",
      "5     2.383094      f\n",
      "6     2.360612      g\n",
      "7     6.924460      h\n",
      "8     6.384892      i\n",
      "9     0.067446      j\n",
      "10    1.056655      k\n",
      "11    5.148381      l\n",
      "12    2.135791      m\n",
      "13    5.800360      n\n",
      "14    7.688849      o\n",
      "15    1.573741      p\n",
      "16    0.157374      q\n",
      "17    4.991007      r\n",
      "18    6.047662      s\n",
      "19   10.026978      t\n",
      "20    3.394784      u\n",
      "21    1.326439      v\n",
      "22    2.293165      w\n",
      "23    0.157374      x\n",
      "24    1.686151      y\n",
      "25    0.067446      z\n"
     ]
    }
   ],
   "source": [
    "print(\"Výčet znaků (bez mezery) (Y) a jejich četnost:\")\n",
    "print(data_Y_letters)\n",
    "\n",
    "print('\\nSoučet počtu písmen řetězce Y: ', suma_Y )\n",
    "\n",
    "print('\\nVýčet znaků (bez mezery) (Y) a jejich relativní četnost v (%):')\n",
    "print(rel_data_Y)"
   ]
  },
  {
   "cell_type": "markdown",
   "metadata": {},
   "source": [
    "#### Zobrazeni grafu pro hodnotu X"
   ]
  },
  {
   "cell_type": "code",
   "execution_count": 10,
   "metadata": {},
   "outputs": [
    {
     "data": {
      "text/plain": [
       "Text(0.5,0,'Letters')"
      ]
     },
     "execution_count": 10,
     "metadata": {},
     "output_type": "execute_result"
    },
    {
     "data": {
      "image/png": "[encoded data removed]",
      "text/plain": [
       "<Figure size 432x288 with 1 Axes>"
      ]
     },
     "metadata": {
      "needs_background": "light"
     },
     "output_type": "display_data"
    }
   ],
   "source": [
    "plt.bar(rel_data_X['letter'], rel_data_X['percentage'])\n",
    "plt.ylabel('Probability (%)')\n",
    "plt.xlabel('Letters')"
   ]
  },
  {
   "cell_type": "markdown",
   "metadata": {},
   "source": [
    "#### Zobrazeni grafu pro hodnotu Y"
   ]
  },
  {
   "cell_type": "code",
   "execution_count": 11,
   "metadata": {},
   "outputs": [
    {
     "data": {
      "text/plain": [
       "Text(0.5,0,'Letters')"
      ]
     },
     "execution_count": 11,
     "metadata": {},
     "output_type": "execute_result"
    },
    {
     "data": {
      "image/png": "[encoded data removed]",
      "text/plain": [
       "<Figure size 432x288 with 1 Axes>"
      ]
     },
     "metadata": {
      "needs_background": "light"
     },
     "output_type": "display_data"
    }
   ],
   "source": [
    "plt.bar(rel_data_Y['letter'], rel_data_Y['percentage'])\n",
    "plt.ylabel('Probability (%)')\n",
    "plt.xlabel('Letters')"
   ]
  },
  {
   "cell_type": "markdown",
   "metadata": {},
   "source": [
    "### 3. Na hladině významnosti 5% otestujte hypotézu, že rozdělení délek slov nezávisí na tom, o který jde text. Určete také p-hodnotu testu."
   ]
  },
  {
   "cell_type": "markdown",
   "metadata": {},
   "source": [
    "##### Postup: Provedeme test nezávislosti v kontingenční tabulce. Nejprve vytvoříme tabulku s počtem slov konkrétní délky - jeden soubor v jednom řádku. Potom sloučíme slupce s nejmenším počtem pozorování, tak abychom měli v každém políčku alespoň 5."
   ]
  },
  {
   "cell_type": "code",
   "execution_count": 12,
   "metadata": {},
   "outputs": [
    {
     "name": "stdout",
     "output_type": "stream",
     "text": [
      "Matice s délkami slov\n",
      "[[ 24 163 288 261 163 113  93  41  29  12  10   2   0   1]\n",
      " [ 64 204 236 234 140  81  62  38  17  16   4   2   1   1]]\n",
      "\n",
      "\n",
      "Matice s délkami slov s alespoň 5 pozorováními v každém políčku\n",
      "[[ 24 163 288 261 163 113  93  41  29  12  13]\n",
      " [ 64 204 236 234 140  81  62  38  17  16   8]]\n"
     ]
    }
   ],
   "source": [
    "# Vytvoreni datovych struktur pro jednotlive soubory\n",
    "X_word_lengths = list()\n",
    "for x in range(1,15):\n",
    "    try:\n",
    "        X_word_lengths.append(data_X_grouped['word'][x])\n",
    "    except KeyError:\n",
    "        X_word_lengths.append(0)\n",
    "\n",
    "Y_word_lengths = list()\n",
    "for y in range(1,15):\n",
    "    try:\n",
    "        Y_word_lengths.append(data_Y_grouped['word'][y])\n",
    "    except KeyError:\n",
    "        Y_word_lengths.append(0)\n",
    "\n",
    "# Vytvoreni matice dat\n",
    "Word_lengths_matrix = np.matrix([X_word_lengths,Y_word_lengths])\n",
    "print(\"Matice s délkami slov\")\n",
    "print(Word_lengths_matrix)\n",
    "\n",
    "# Chceme alespon 5 pozorovani v kazdem chlivecku - sloucime nejmensi\n",
    "temp_X_list = list()\n",
    "temp_Y_list = list()\n",
    "\n",
    "for i in range (10):\n",
    "    temp_X_list.append(Word_lengths_matrix[0,i])\n",
    "    temp_Y_list.append(Word_lengths_matrix[1,i])\n",
    "\n",
    "new_X = 0\n",
    "new_Y = 0\n",
    "\n",
    "for i in range (10,14):\n",
    "    new_X += Word_lengths_matrix[0,i]\n",
    "    new_Y += Word_lengths_matrix[1,i]\n",
    "\n",
    "temp_X_list.append(new_X)\n",
    "temp_Y_list.append(new_Y)\n",
    "\n",
    "\n",
    "Word_lengths_matrix_shortend = np.matrix([temp_X_list,temp_Y_list])\n",
    "\n",
    "print(\"\\n\\nMatice s délkami slov s alespoň 5 pozorováními v každém políčku\")\n",
    "print(Word_lengths_matrix_shortend)"
   ]
  },
  {
   "cell_type": "markdown",
   "metadata": {},
   "source": [
    "##### Pomocí funkce 'stats.chi2_contingency' provedeme test nezávislosti v kontingenční tabulce. Podle nalezené p-hodnoty rozhodneme o zamítnutí H0."
   ]
  },
  {
   "cell_type": "code",
   "execution_count": 13,
   "metadata": {
    "scrolled": true
   },
   "outputs": [
    {
     "name": "stdout",
     "output_type": "stream",
     "text": [
      "\n",
      "Hodnota testové statistiky:  43.35986059056012\n",
      "p-hodnota: 4.287725068452928e-06\n",
      "\n",
      "\n",
      "P-hodnota je nejnižší hodnota, kdy zamítáme H0.\n",
      "Testujeme na hladině významnosti 5%: 0.05 > p-hodnota, tedy zamítáme H0.\n",
      "Zamítáme tedy, že rozdělení délek slov nezávisí na tom, o který text jde.\n"
     ]
    }
   ],
   "source": [
    "s, p, d, e = stats.chi2_contingency(Word_lengths_matrix_shortend, correction = False)\n",
    "print(\"\\nHodnota testové statistiky: \", s)\n",
    "print(\"p-hodnota:\", p)\n",
    "print(\"\\n\\nP-hodnota je nejnižší hodnota, kdy zamítáme H0.\")\n",
    "print(\"Testujeme na hladině významnosti 5%: 0.05 > p-hodnota, tedy \" + (\"\" if 0.05 > p else \"NE\") + \"zamítáme H0.\")\n",
    "print((\"Z\" if 0.05 > p else \"NEz\") + \"amítáme tedy, že rozdělení délek slov nezávisí na tom, o který text jde.\")"
   ]
  },
  {
   "cell_type": "markdown",
   "metadata": {},
   "source": [
    "### 4. Na hladině významnosti 5% otestujte hypotézu, že se střední délky slov v obou textech rovnají. Určete také p-hodnotu testu."
   ]
  },
  {
   "cell_type": "markdown",
   "metadata": {},
   "source": [
    "##### Postup: Rovnost středních délek slov v obou textech otestujeme dvouvýběrovým testem. Jako odhad střední hodnoty použijeme výberový rozptyl."
   ]
  },
  {
   "cell_type": "code",
   "execution_count": 14,
   "metadata": {},
   "outputs": [
    {
     "name": "stdout",
     "output_type": "stream",
     "text": [
      "Výběrový rozptyl X: 4.13619375\n",
      "Výběrový rozptyl Y: 4.329004958677686\n"
     ]
    }
   ],
   "source": [
    "# Příprava dat\n",
    "n = len(data_X['word_length'])\n",
    "m = len(data_Y['word_length'])\n",
    "sX2 = np.var(data_X['word_length'])\n",
    "sY2 = np.var(data_Y['word_length'])\n",
    "print(\"Výběrový rozptyl X:\", sX2)\n",
    "print(\"Výběrový rozptyl Y:\", sY2)"
   ]
  },
  {
   "cell_type": "markdown",
   "metadata": {},
   "source": [
    "##### Nejprve provedeme test shodnosti rozptylů, abychom mohli použít správný dvouvýběrový test."
   ]
  },
  {
   "cell_type": "code",
   "execution_count": 15,
   "metadata": {},
   "outputs": [
    {
     "name": "stdout",
     "output_type": "stream",
     "text": [
      "Testová statistika: 0.9554606172739103\n",
      "p-hodnota: 1.5601104451429566\n",
      "\n",
      "\n",
      "P-hodnota je nejnižší hodnota kdy zamítáme H0.\n",
      "Testujeme na hladině významnosti 5%: 0.05 < p-hodnota, tedy NEzamítáme H0.\n",
      "NEzamítáme, že se rozptyly délky slov v obou textech rovnají.\n",
      "\n",
      "Budeme tedy uvažovat stejné rozptyly.\n"
     ]
    }
   ],
   "source": [
    "F = sX2 / sY2\n",
    "print(\"Testová statistika:\", F)\n",
    "p_value = 2*stats.f.sf(F, n-1, m-1)\n",
    "print(\"p-hodnota:\", p_value)\n",
    "print(\"\\n\\nP-hodnota je nejnižší hodnota kdy zamítáme H0.\")\n",
    "print(\"Testujeme na hladině významnosti 5%: 0.05 < p-hodnota, tedy \" + (\"\" if 0.05 > p_value else \"NE\") + \"zamítáme H0.\")\n",
    "print((\"Z\" if 0.05 > p_value else \"NEz\") + \"amítáme, že se rozptyly délky slov v obou textech rovnají.\")\n",
    "print(\"\\nBudeme tedy uvažovat stejné rozptyly.\")"
   ]
  },
  {
   "cell_type": "markdown",
   "metadata": {},
   "source": [
    "##### Použijeme tedy k testování dvouvýběrový t-test se shodnými rozptyly: 'stats.ttest_ind( .. , .. , equal_var = True)'"
   ]
  },
  {
   "cell_type": "code",
   "execution_count": 16,
   "metadata": {},
   "outputs": [
    {
     "name": "stdout",
     "output_type": "stream",
     "text": [
      "Hodnota testové statistiky T =  3.9461235247098236\n",
      "p_hodnota:  8.181012225938807e-05\n",
      "\n",
      "Testujeme na hladině významnosti 5%: 0.05 > p-hodnota, tedy zamítáme H0.\n",
      "Zamítáme, že se střední délky slov v obou textech rovnají.\n"
     ]
    }
   ],
   "source": [
    "T_, p_ = stats.ttest_ind(data_X['word_length'], data_Y['word_length'], equal_var = True)\n",
    "print(\"Hodnota testové statistiky T = \", T_)\n",
    "print(\"p_hodnota: \", p_)\n",
    "print(\"\\nTestujeme na hladině významnosti 5%: 0.05 > p-hodnota, tedy \" + (\"\" if 0.05 > p_ else \"NE\") + \"zamítáme H0.\")\n",
    "print((\"Z\" if 0.05 > p_ else \"NEz\") + \"amítáme, že se střední délky slov v obou textech rovnají.\")"
   ]
  },
  {
   "cell_type": "markdown",
   "metadata": {},
   "source": [
    "### 5. Na hladině významnosti 5% otestujte hypotézu, že rozdělení písmen nezávisí na tom, o který jde text. Určete také p-hodnotu testu."
   ]
  },
  {
   "cell_type": "markdown",
   "metadata": {},
   "source": [
    "##### Postup: Totožný s příkladem č. 3."
   ]
  },
  {
   "cell_type": "code",
   "execution_count": 17,
   "metadata": {},
   "outputs": [
    {
     "name": "stdout",
     "output_type": "stream",
     "text": [
      "Matice s četností písmen\n",
      "[[438  96 102 303 659 137 141 337 297  15  52 249 109 355 399  91   6 350\n",
      "  291 436 159  30 117   1  83   6]\n",
      " [341  77 110 182 550 106 105 308 284   3  47 229  95 258 342  70   7 222\n",
      "  269 446 151  59 102   7  75   3]]\n",
      "\n",
      "\n",
      "Matice četností s alespoň 5 pozorováními v každém políčku\n",
      "[[438  96 102 303 659 137 141 337 297  52 249 109 355 399  91   6 350 291\n",
      "  436 159  30 117  83  22]\n",
      " [341  77 110 182 550 106 105 308 284  47 229  95 258 342  70   7 222 269\n",
      "  446 151  59 102  75  13]]\n"
     ]
    }
   ],
   "source": [
    "# Vytvoreni datovych struktur pro oba soubory\n",
    "X_letters = list()\n",
    "for x in range(26):\n",
    "    try:\n",
    "        X_letters.append(data_X_letters['count'][x])\n",
    "    except KeyError:\n",
    "        X_letters.append(0)\n",
    "\n",
    "Y_letters = list()\n",
    "for y in range(26):\n",
    "    try:\n",
    "        Y_letters.append(data_Y_letters['count'][y])\n",
    "    except KeyError:\n",
    "        Y_letters.append(0)\n",
    "\n",
    "# Vytvoreni matice\n",
    "Letters_matrix = np.matrix([X_letters,Y_letters])\n",
    "print(\"Matice s četností písmen\")\n",
    "print(Letters_matrix)\n",
    "\n",
    "# Chceme alespon 5 pozorovani v kazdem chlivecku - sloucime nejmensi\n",
    "temp_X_list = list()\n",
    "temp_Y_list = list()\n",
    "\n",
    "for i in range (9):\n",
    "    temp_X_list.append(Letters_matrix[0,i])\n",
    "    temp_Y_list.append(Letters_matrix[1,i])\n",
    "\n",
    "new_X = Letters_matrix[0,9] + Letters_matrix[0,23] + Letters_matrix[0,25]\n",
    "new_Y = Letters_matrix[1,9] + Letters_matrix[1,23] + Letters_matrix[1,25]\n",
    "\n",
    "for i in range (10,23):\n",
    "    temp_X_list.append(Letters_matrix[0,i])\n",
    "    temp_Y_list.append(Letters_matrix[1,i])\n",
    "\n",
    "temp_X_list.append(Letters_matrix[0,24])\n",
    "temp_Y_list.append(Letters_matrix[1,24])\n",
    "\n",
    "temp_X_list.append(new_X)\n",
    "temp_Y_list.append(new_Y)\n",
    "\n",
    "\n",
    "Letters_shortend = np.matrix([temp_X_list,temp_Y_list])\n",
    "\n",
    "print(\"\\n\\nMatice četností s alespoň 5 pozorováními v každém políčku\")\n",
    "print(Letters_shortend)"
   ]
  },
  {
   "cell_type": "markdown",
   "metadata": {},
   "source": [
    "##### Test nezávislosti v kontingenční tabulce"
   ]
  },
  {
   "cell_type": "code",
   "execution_count": 18,
   "metadata": {},
   "outputs": [
    {
     "name": "stdout",
     "output_type": "stream",
     "text": [
      "\n",
      "Hodnota testové statistiky:  65.6236724168852\n",
      "p-hodnota: 5.651904134211853e-06\n",
      "\n",
      "\n",
      "P-hodnota je nejnižší hodnota kdy zamítáme H0.\n",
      "Testujeme na hladině významnosti 5%: 0.05 > p-hodnota, tedy zamítáme H0.\n",
      "Zamítáme tedy, že rozdělení písmen nezávisí na tom, o který text jde.\n"
     ]
    }
   ],
   "source": [
    "s, p, d, e = stats.chi2_contingency(Letters_shortend, correction = False)\n",
    "print(\"\\nHodnota testové statistiky: \", s)\n",
    "print(\"p-hodnota:\", p)\n",
    "print(\"\\n\\nP-hodnota je nejnižší hodnota kdy zamítáme H0.\")\n",
    "print(\"Testujeme na hladině významnosti 5%: 0.05 > p-hodnota, tedy \" + (\"\" if 0.05 > p else \"NE\") + \"zamítáme H0.\")\n",
    "print((\"Z\" if 0.05 > p else \"NEz\") + \"amítáme tedy, že rozdělení písmen nezávisí na tom, o který text jde.\")"
   ]
  }
 ],
 "metadata": {
  "kernelspec": {
   "display_name": "Python 3",
   "language": "python",
   "name": "python3"
  },
  "language_info": {
   "codemirror_mode": {
    "name": "ipython",
    "version": 3
   },
   "file_extension": ".py",
   "mimetype": "text/x-python",
   "name": "python",
   "nbconvert_exporter": "python",
   "pygments_lexer": "ipython3",
   "version": "3.4.3"
  }
 },
 "nbformat": 4,
 "nbformat_minor": 2
}
