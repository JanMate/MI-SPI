{
 "cells": [
  {
   "cell_type": "code",
   "execution_count": 121,
   "metadata": {},
   "outputs": [],
   "source": [
    "# autoři: Jan Kubát, Jan Matějka"
   ]
  },
  {
   "cell_type": "code",
   "execution_count": 122,
   "metadata": {},
   "outputs": [],
   "source": [
    "# importy potřebných knihoven\n",
    "import pandas\n",
    "import scipy\n",
    "import matplotlib.pyplot as plt\n",
    "import numpy as np\n",
    "from scipy import stats\n",
    "from operator import itemgetter"
   ]
  },
  {
   "cell_type": "code",
   "execution_count": 123,
   "metadata": {},
   "outputs": [],
   "source": [
    "# výpočet hodnot pro vstupní data\n",
    "K = 1 # TODO nutné upravit podle dne narození\n",
    "L = len(\"Kubát\")\n",
    "X = ((K*L*23) % 20) + 1\n",
    "Y = ((X + ((K*5 + L*7) % 19)) % 20) + 1"
   ]
  },
  {
   "cell_type": "code",
   "execution_count": 124,
   "metadata": {},
   "outputs": [
    {
     "name": "stdout",
     "output_type": "stream",
     "text": [
      "Prvních 10 slov v odstavci:\n",
      "       word  word_length\n",
      "0       the            3\n",
      "1  republic            8\n",
      "2   persons            7\n",
      "3        of            2\n",
      "4       the            3\n",
      "5  dialogue            8\n",
      "6  socrates            8\n",
      "7       who            3\n",
      "8        is            2\n",
      "9       the            3\n"
     ]
    }
   ],
   "source": [
    "# 1. Z obou datových souborů načtěte texty k analýze. Pro každý text zvlášť odhadněte základní \n",
    "#    charakteristiky délek slov, tj. střední hodnotu a rozptyl. Graficky znázorněte rozdělení délek slov.\n",
    "\n",
    "# X)\n",
    "# parsování vstupního souboru\n",
    "d = list()\n",
    "with open(\"hw1-source/0\" + str(X) + \".txt\") as f:\n",
    "    for line in f:\n",
    "        d.append(line)\n",
    "        \n",
    "# vytvoření kolekce slov s jejich délkou\n",
    "words = d[1].split(\" \")\n",
    "words_with_len = list()\n",
    "for word in words:\n",
    "    words_with_len.append((len(word), word))\n",
    "\n",
    "# vytvoření datové struktury k pohodlné práci s daty\n",
    "data = pandas.DataFrame([{'word_length': a, 'word': b}\n",
    "                  for a, b in words_with_len\n",
    "                  if True])\n",
    "print(\"Prvních 10 slov v odstavci:\")\n",
    "print(data[:10])\n",
    "\n",
    "# příprava dat pro histogram\n",
    "data_grouped = data.groupby('word_length').count()\n"
   ]
  },
  {
   "cell_type": "code",
   "execution_count": 125,
   "metadata": {},
   "outputs": [
    {
     "name": "stdout",
     "output_type": "stream",
     "text": [
      "Střední hodnota: 4.0856\n",
      "Rozptyl: 5.15507264\n"
     ]
    }
   ],
   "source": [
    "print('Střední hodnota: ' + str(np.mean(data['word_length'])))\n",
    "print('Rozptyl: ' + str(np.var(data['word_length'])))"
   ]
  },
  {
   "cell_type": "code",
   "execution_count": 126,
   "metadata": {},
   "outputs": [
    {
     "name": "stdout",
     "output_type": "stream",
     "text": [
      "[  0.  60. 236. 355. 226. 111.  56.  79.  54.  31.  18.  24.]\n"
     ]
    },
    {
     "data": {
      "image/png": "[encoded data removed]",
      "text/plain": [
       "<Figure size 432x288 with 1 Axes>"
      ]
     },
     "metadata": {
      "needs_background": "light"
     },
     "output_type": "display_data"
    }
   ],
   "source": [
    "# zobrazeni histogramu pro hodnotu X\n",
    "N, bins, patches = plt.hist(data['word_length'], bins=len(data_grouped), density = False, range = (0, len(data_for_hist)))\n",
    "print(N)"
   ]
  },
  {
   "cell_type": "code",
   "execution_count": 127,
   "metadata": {},
   "outputs": [
    {
     "name": "stdout",
     "output_type": "stream",
     "text": [
      "Prvních 10 slov v odstavci:\n",
      "        word  word_length\n",
      "0    preface            7\n",
      "1         to            2\n",
      "2  pygmalion            9\n",
      "3          a            1\n",
      "4  professor            9\n",
      "5         of            2\n",
      "6  phonetics            9\n",
      "7         as            2\n",
      "8       will            4\n",
      "9         be            2\n"
     ]
    }
   ],
   "source": [
    "# Y)\n",
    "# parsování vstupního souboru\n",
    "d = list()\n",
    "with open(\"hw1-source/0\" + str(Y) + \".txt\") as f:\n",
    "    for line in f:\n",
    "        d.append(line)\n",
    "        \n",
    "# vytvoření kolekce slov s jejich délkou\n",
    "words = d[1].split(\" \")\n",
    "words_with_len = list()\n",
    "for word in words:\n",
    "    words_with_len.append((len(word), word))\n",
    "\n",
    "# vytvoření datové struktury k pohodlné práci s daty\n",
    "data = pandas.DataFrame([{'word_length': a, 'word': b}\n",
    "                  for a, b in words_with_len\n",
    "                  if True])\n",
    "print(\"Prvních 10 slov v odstavci:\")\n",
    "print(data[:10])\n",
    "\n",
    "# příprava dat pro histogram\n",
    "data_grouped = data.groupby('word_length').count()\n",
    "\n"
   ]
  },
  {
   "cell_type": "code",
   "execution_count": 128,
   "metadata": {},
   "outputs": [
    {
     "name": "stdout",
     "output_type": "stream",
     "text": [
      "Střední hodnota: 4.643589743589744\n",
      "Rozptyl: 6.824253780407627\n"
     ]
    }
   ],
   "source": [
    "print('Střední hodnota: ' + str(np.mean(data['word_length'])))\n",
    "print('Rozptyl: ' + str(np.var(data['word_length'])))"
   ]
  },
  {
   "cell_type": "code",
   "execution_count": 129,
   "metadata": {},
   "outputs": [
    {
     "name": "stdout",
     "output_type": "stream",
     "text": [
      "[  0.  62. 210. 236. 149. 138.   0.  92.  95.  61.  61.  37.  19.   7.]\n"
     ]
    },
    {
     "data": {
      "image/png": "[encoded data removed]",
      "text/plain": [
       "<Figure size 432x288 with 1 Axes>"
      ]
     },
     "metadata": {
      "needs_background": "light"
     },
     "output_type": "display_data"
    }
   ],
   "source": [
    "# zobrazeni histogramu pro hodnotu X\n",
    "N, bins, patches = plt.hist(data['word_length'], bins=len(data_grouped), density = False, range = (0, len(data_for_hist)))\n",
    "print(N)"
   ]
  },
  {
   "cell_type": "code",
   "execution_count": 130,
   "metadata": {},
   "outputs": [],
   "source": [
    "# 2. Pro každý text zvlášť odhadněte pravděpodobnosti písmen (symbolů mimo mezery), které se v textech vyskytují. \n",
    "#    Výsledné pravděpodobnosti graficky znázorněte.\n",
    "\n",
    "# X)\n",
    "\n"
   ]
  },
  {
   "cell_type": "code",
   "execution_count": null,
   "metadata": {},
   "outputs": [],
   "source": []
  }
 ],
 "metadata": {
  "kernelspec": {
   "display_name": "Python 3",
   "language": "python",
   "name": "python3"
  },
  "language_info": {
   "codemirror_mode": {
    "name": "ipython",
    "version": 3
   },
   "file_extension": ".py",
   "mimetype": "text/x-python",
   "name": "python",
   "nbconvert_exporter": "python",
   "pygments_lexer": "ipython3",
   "version": "3.7.2"
  }
 },
 "nbformat": 4,
 "nbformat_minor": 2
}
