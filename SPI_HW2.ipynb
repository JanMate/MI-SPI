{
 "cells": [
  {
   "cell_type": "markdown",
   "metadata": {},
   "source": [
    "# Úkol 2"
   ]
  },
  {
   "cell_type": "markdown",
   "metadata": {},
   "source": [
    "## Autoři: Jan Kubát (kubatja3), Jan Matějka (matejj32)\n"
   ]
  },
  {
   "cell_type": "markdown",
   "metadata": {},
   "source": [
    "### Importy knihoven"
   ]
  },
  {
   "cell_type": "code",
   "execution_count": 1,
   "metadata": {},
   "outputs": [],
   "source": [
    "import pandas\n",
    "import scipy\n",
    "import matplotlib.pyplot as plt\n",
    "import numpy as np\n",
    "from scipy import linalg\n",
    "from scipy import stats\n",
    "from operator import itemgetter\n",
    "from collections import Counter\n",
    "import copy"
   ]
  },
  {
   "cell_type": "markdown",
   "metadata": {},
   "source": [
    "### Výpočet hodnot pro vstupní data "
   ]
  },
  {
   "cell_type": "code",
   "execution_count": 2,
   "metadata": {},
   "outputs": [
    {
     "name": "stdout",
     "output_type": "stream",
     "text": [
      "X = 1\n"
     ]
    }
   ],
   "source": [
    "K = 8\n",
    "L = len(\"Kubát\")\n",
    "X = ((K*L*23) % 20) + 1\n",
    "print(\"X =\", X)"
   ]
  },
  {
   "cell_type": "markdown",
   "metadata": {},
   "source": [
    "### 1. Z datového souboru načtěte text k analýze. Odhadněte pravděpodobnosti písmen (včetně mezer), které se v textu vyskytují. Takto získané empirické rozdělení graficky znázorněte. Pro další body předpokládejme, že je text vygenerován z homogenního markovského řetězce s diskrétním časem."
   ]
  },
  {
   "cell_type": "markdown",
   "metadata": {},
   "source": [
    "#### Postup řešení\n",
    "Tento úkol zahrnuje zpracování textového řetězce ze vstupního souboru a pomocí třídy Counter z knihovny collections získáme četnost jednotlivých znaků v textovém řetězci. Tuto četnost převedeme do DataFramu knihovny pandas a díky ní snadným způsobem a dělením celkového součtu a násobením 100 získáme procentuální četnosti jednotlivých znaků. Množina znaků je tvořena malými písmeny anglické abecedy včetně mezery."
   ]
  },
  {
   "cell_type": "code",
   "execution_count": 3,
   "metadata": {},
   "outputs": [
    {
     "name": "stdout",
     "output_type": "stream",
     "text": [
      "Výčet znaků (včetně mezer) (X) a jejich četnost:\n",
      "    count letter\n",
      "0    1199       \n",
      "1     438      a\n",
      "2      96      b\n",
      "3     102      c\n",
      "4     303      d\n",
      "5     659      e\n",
      "6     137      f\n",
      "7     141      g\n",
      "8     337      h\n",
      "9     297      i\n",
      "10     15      j\n",
      "11     52      k\n",
      "12    249      l\n",
      "13    109      m\n",
      "14    355      n\n",
      "15    399      o\n",
      "16     91      p\n",
      "17      6      q\n",
      "18    350      r\n",
      "19    291      s\n",
      "20    436      t\n",
      "21    159      u\n",
      "22     30      v\n",
      "23    117      w\n",
      "24      1      x\n",
      "25     83      y\n",
      "26      6      z\n",
      "\n",
      "Součet počtu písmen řetězce X:  6458\n"
     ]
    }
   ],
   "source": [
    "# parsování vstupních souborů\n",
    "d = list()\n",
    "\n",
    "with open(\"hw1-source/\" + '{0:03d}'.format(X) + \".txt\") as f:\n",
    "    for line in f:\n",
    "        d.append(line)\n",
    "\n",
    "# třída Counter ze vstupního řetězce spočítá četnost jednotlivých znaků\n",
    "c = Counter(d[1])\n",
    "\n",
    "# vytvoření datové struktury k pohodlné práci s daty\n",
    "data_letters = pandas.DataFrame([{'count': a, 'letter': b}\n",
    "                  for b, a in sorted(c.most_common(), key = lambda val : val[0])\n",
    "                  if True])\n",
    "\n",
    "suma = sum(data_letters['count'])\n",
    "\n",
    "# vytvoření DataFramu s procentuální četností jednotlivých znaků\n",
    "rel_data = copy.deepcopy(data_letters)\n",
    "rel_data.rename(columns={'count':'percentage'}, inplace=True)\n",
    "rel_data['percentage'] = (data_letters['count'] / suma) * 100\n",
    "\n",
    "print(\"Výčet znaků (včetně mezer) (X) a jejich četnost:\")\n",
    "print(data_letters)\n",
    "\n",
    "print('\\nSoučet počtu písmen řetězce X: ', suma )"
   ]
  },
  {
   "cell_type": "code",
   "execution_count": 4,
   "metadata": {},
   "outputs": [
    {
     "name": "stdout",
     "output_type": "stream",
     "text": [
      "\n",
      "Výčet znaků (včetně mezer) (X) a jejich relativní četnost v (%):\n",
      "    percentage letter\n",
      "0    18.566120       \n",
      "1     6.782286      a\n",
      "2     1.486528      b\n",
      "3     1.579436      c\n",
      "4     4.691855      d\n",
      "5    10.204398      e\n",
      "6     2.121400      f\n",
      "7     2.183338      g\n",
      "8     5.218334      h\n",
      "9     4.598947      i\n",
      "10    0.232270      j\n",
      "11    0.805203      k\n",
      "12    3.855683      l\n",
      "13    1.687829      m\n",
      "14    5.497058      n\n",
      "15    6.178383      o\n",
      "16    1.409105      p\n",
      "17    0.092908      q\n",
      "18    5.419635      r\n",
      "19    4.506039      s\n",
      "20    6.751316      t\n",
      "21    2.462063      u\n",
      "22    0.464540      v\n",
      "23    1.811706      w\n",
      "24    0.015485      x\n",
      "25    1.285228      y\n",
      "26    0.092908      z\n"
     ]
    }
   ],
   "source": [
    "print('\\nVýčet znaků (včetně mezer) (X) a jejich relativní četnost v (%):')\n",
    "print(rel_data)"
   ]
  },
  {
   "cell_type": "markdown",
   "metadata": {},
   "source": [
    "#### Zobrazeni grafu pro hodnotu X"
   ]
  },
  {
   "cell_type": "code",
   "execution_count": 5,
   "metadata": {},
   "outputs": [
    {
     "data": {
      "text/plain": [
       "Text(0.5,0,'Letters')"
      ]
     },
     "execution_count": 5,
     "metadata": {},
     "output_type": "execute_result"
    },
    {
     "data": {
      "image/png": "[encoded data removed]",
      "text/plain": [
       "<Figure size 432x288 with 1 Axes>"
      ]
     },
     "metadata": {
      "needs_background": "light"
     },
     "output_type": "display_data"
    }
   ],
   "source": [
    "plt.bar(rel_data['letter'], rel_data['percentage'])\n",
    "plt.ylabel('Probability (%)')\n",
    "plt.xlabel('Letters')"
   ]
  },
  {
   "cell_type": "markdown",
   "metadata": {},
   "source": [
    "#### Zobrazení empirického rozdělení pomocí empirické distribuční funkce"
   ]
  },
  {
   "cell_type": "code",
   "execution_count": 6,
   "metadata": {},
   "outputs": [
    {
     "data": {
      "text/plain": [
       "Text(0.5,0,'Pravděpodobnost')"
      ]
     },
     "execution_count": 6,
     "metadata": {},
     "output_type": "execute_result"
    },
    {
     "data": {
      "image/png": "[encoded data removed]",
      "text/plain": [
       "<Figure size 432x288 with 1 Axes>"
      ]
     },
     "metadata": {
      "needs_background": "light"
     },
     "output_type": "display_data"
    }
   ],
   "source": [
    "emp = list()\n",
    "\n",
    "for x in enumerate(rel_data['percentage']):\n",
    "    emp.append(x[1]/100)\n",
    "    \n",
    "x_ax = np.sort(emp)\n",
    "y_ax = np.arange(len(x_ax))/float(len(x_ax))\n",
    "plt.step(x_ax, y_ax)\n",
    "plt.ylabel('Hodnota empirické funkce')\n",
    "plt.xlabel('Pravděpodobnost')"
   ]
  },
  {
   "cell_type": "markdown",
   "metadata": {},
   "source": [
    "### 2. Za tohoto předpokladu odhadněte matici přechodu."
   ]
  },
  {
   "cell_type": "markdown",
   "metadata": {},
   "source": [
    "#### Postup řešení\n",
    "Tento úkol zahrnuje zpracování textového řetězce ze vstupního souboru a pomocí posloupnosti znaků v něm, lze tuto posloupnost pojmout jako výčet (množinu) přechodů pro matici přechodů. Pro každý prvek zjistíme jeho následovníka tak, že jím bude znak následující po aktuálním znaku a přičteme jej do matice M. Hodnoty v řádku poté podělíme součtem řádku, který se rovná 1 a tímto způsobem získáme matici přechodů. Pro názornost je matice přechodů zobrazena jako tabulka."
   ]
  },
  {
   "cell_type": "code",
   "execution_count": 7,
   "metadata": {},
   "outputs": [
    {
     "name": "stdout",
     "output_type": "stream",
     "text": [
      "0.000|0.125|0.061|0.038|0.048|0.014|0.052|0.019|0.088|0.033|0.013|0.006|0.038|0.036|0.016|0.064|0.039|0.000|0.012|0.065|0.142|0.005|0.008|0.073|0.000|0.007|0.000\n",
      "0.062|0.000|0.027|0.039|0.066|0.007|0.009|0.027|0.000|0.025|0.000|0.016|0.062|0.014|0.258|0.000|0.011|0.000|0.107|0.078|0.105|0.023|0.007|0.018|0.000|0.039|0.000\n",
      "0.021|0.104|0.021|0.000|0.000|0.208|0.000|0.000|0.000|0.104|0.000|0.000|0.135|0.000|0.000|0.115|0.000|0.000|0.135|0.000|0.000|0.135|0.000|0.000|0.000|0.021|0.000\n",
      "0.020|0.157|0.000|0.010|0.000|0.108|0.000|0.000|0.255|0.029|0.000|0.088|0.049|0.000|0.000|0.186|0.000|0.000|0.000|0.000|0.069|0.029|0.000|0.000|0.000|0.000|0.000\n",
      "0.584|0.036|0.000|0.000|0.007|0.099|0.007|0.000|0.000|0.046|0.000|0.000|0.023|0.000|0.000|0.102|0.000|0.000|0.040|0.036|0.000|0.010|0.003|0.000|0.000|0.007|0.000\n",
      "0.351|0.068|0.000|0.008|0.097|0.027|0.005|0.006|0.002|0.015|0.000|0.002|0.041|0.014|0.094|0.005|0.006|0.002|0.150|0.055|0.021|0.000|0.006|0.003|0.002|0.023|0.000\n",
      "0.321|0.058|0.000|0.000|0.000|0.088|0.036|0.000|0.000|0.066|0.000|0.000|0.036|0.000|0.000|0.190|0.000|0.000|0.102|0.000|0.036|0.066|0.000|0.000|0.000|0.000|0.000\n",
      "0.321|0.043|0.000|0.000|0.000|0.093|0.000|0.043|0.121|0.029|0.000|0.000|0.007|0.000|0.007|0.029|0.000|0.000|0.121|0.107|0.014|0.043|0.000|0.000|0.000|0.021|0.000\n",
      "0.095|0.145|0.000|0.000|0.000|0.478|0.000|0.000|0.000|0.128|0.000|0.000|0.000|0.000|0.000|0.080|0.000|0.000|0.003|0.003|0.039|0.027|0.000|0.000|0.000|0.003|0.000\n",
      "0.057|0.007|0.000|0.044|0.030|0.074|0.034|0.040|0.000|0.000|0.000|0.013|0.034|0.047|0.246|0.020|0.007|0.000|0.081|0.091|0.148|0.003|0.020|0.000|0.000|0.000|0.003\n",
      "0.000|0.000|0.000|0.000|0.000|0.867|0.000|0.000|0.000|0.000|0.000|0.000|0.000|0.000|0.000|0.133|0.000|0.000|0.000|0.000|0.000|0.000|0.000|0.000|0.000|0.000|0.000\n",
      "0.327|0.019|0.000|0.000|0.000|0.404|0.000|0.000|0.000|0.154|0.000|0.000|0.038|0.000|0.019|0.000|0.000|0.000|0.000|0.019|0.000|0.000|0.000|0.019|0.000|0.000|0.000\n",
      "0.104|0.072|0.000|0.000|0.088|0.209|0.012|0.012|0.000|0.116|0.000|0.016|0.116|0.004|0.000|0.108|0.000|0.000|0.004|0.028|0.004|0.032|0.004|0.000|0.000|0.068|0.000\n",
      "0.202|0.202|0.055|0.000|0.000|0.248|0.000|0.000|0.000|0.073|0.000|0.000|0.000|0.000|0.000|0.092|0.018|0.000|0.000|0.055|0.000|0.055|0.000|0.000|0.000|0.000|0.000\n",
      "0.248|0.031|0.000|0.031|0.287|0.062|0.003|0.121|0.000|0.020|0.000|0.006|0.003|0.000|0.006|0.042|0.003|0.000|0.045|0.023|0.059|0.000|0.000|0.000|0.000|0.011|0.000\n",
      "0.123|0.005|0.000|0.005|0.015|0.000|0.105|0.050|0.000|0.008|0.000|0.015|0.048|0.058|0.110|0.048|0.015|0.000|0.110|0.020|0.068|0.143|0.013|0.035|0.000|0.000|0.008\n",
      "0.077|0.055|0.000|0.000|0.000|0.253|0.000|0.000|0.000|0.121|0.000|0.000|0.154|0.000|0.000|0.055|0.110|0.000|0.066|0.000|0.022|0.066|0.000|0.000|0.000|0.022|0.000\n",
      "0.000|0.000|0.000|0.000|0.000|0.000|0.000|0.000|0.000|0.000|0.000|0.000|0.000|0.000|0.000|0.000|0.000|0.000|0.000|0.000|0.000|1.000|0.000|0.000|0.000|0.000|0.000\n",
      "0.180|0.066|0.000|0.000|0.026|0.257|0.014|0.006|0.003|0.117|0.000|0.023|0.006|0.011|0.029|0.106|0.000|0.000|0.040|0.043|0.037|0.014|0.000|0.003|0.000|0.020|0.000\n",
      "0.491|0.034|0.000|0.007|0.000|0.082|0.000|0.000|0.052|0.038|0.000|0.003|0.010|0.007|0.003|0.076|0.014|0.017|0.000|0.024|0.107|0.021|0.000|0.007|0.000|0.007|0.000\n",
      "0.296|0.023|0.000|0.002|0.000|0.057|0.000|0.000|0.356|0.032|0.000|0.000|0.039|0.005|0.000|0.092|0.000|0.000|0.025|0.025|0.032|0.011|0.000|0.002|0.000|0.002|0.000\n",
      "0.013|0.025|0.013|0.031|0.019|0.019|0.000|0.101|0.000|0.019|0.000|0.006|0.126|0.031|0.138|0.000|0.057|0.000|0.101|0.138|0.151|0.000|0.000|0.000|0.000|0.006|0.006\n",
      "0.000|0.100|0.000|0.000|0.000|0.733|0.000|0.000|0.000|0.133|0.000|0.000|0.000|0.000|0.000|0.033|0.000|0.000|0.000|0.000|0.000|0.000|0.000|0.000|0.000|0.000|0.000\n",
      "0.077|0.265|0.000|0.000|0.000|0.171|0.000|0.000|0.145|0.120|0.000|0.009|0.009|0.000|0.060|0.120|0.000|0.000|0.009|0.017|0.000|0.000|0.000|0.000|0.000|0.000|0.000\n",
      "0.000|0.000|0.000|0.000|0.000|0.000|0.000|0.000|0.000|0.000|0.000|0.000|0.000|0.000|0.000|0.000|1.000|0.000|0.000|0.000|0.000|0.000|0.000|0.000|0.000|0.000|0.000\n",
      "0.807|0.012|0.012|0.000|0.000|0.084|0.000|0.000|0.000|0.000|0.000|0.012|0.000|0.000|0.000|0.036|0.000|0.000|0.000|0.024|0.012|0.000|0.000|0.000|0.000|0.000|0.000\n",
      "0.000|0.000|0.000|0.000|0.000|0.500|0.000|0.000|0.000|0.167|0.000|0.000|0.000|0.000|0.000|0.000|0.000|0.000|0.000|0.000|0.000|0.000|0.000|0.000|0.000|0.167|0.167\n"
     ]
    }
   ],
   "source": [
    "# transformace textového řetězce na list samostatných znaků po sobě jdoucích a mezeru nahradit za \"`\", \n",
    "# aby se snadno počítalo se znaky jako kódy v ASCII\n",
    "transitions = list(d[1].replace(' ', '`'))\n",
    "\n",
    "# převedu list znaků na číselnou reprezentaci stavů\n",
    "T = [(ord(c) - ord('`')) for c in transitions]\n",
    "\n",
    "# vytvořím matici M tvořenou nulami\n",
    "M = [[0]*27 for _ in range(27)]\n",
    "\n",
    "# \n",
    "for (i,j) in zip(T,T[1:]):\n",
    "    M[i][j] += 1\n",
    "\n",
    "# počet výskytů se díky součtu řádku rovnémmu 1 podělí a tím získáme jejich pravděpodobnost\n",
    "for row in M:\n",
    "    n = sum(row)\n",
    "    if n > 0:\n",
    "        row[:] = [f/sum(row) for f in row]\n",
    "\n",
    "# výpis matice přechodů\n",
    "# print('|'.join('{:5s}'.format(str(x)) for x in range(96, 96+27)))\n",
    "for row in M: print('|'.join('{0:.3f}'.format(x) for x in row))\n",
    "    \n",
    "#TODO: formátování výpisu"
   ]
  },
  {
   "cell_type": "markdown",
   "metadata": {},
   "source": [
    "### 3. Na základě matice z předchozího bodu najděte stacionární rozdělení tohoto řetězce."
   ]
  },
  {
   "cell_type": "markdown",
   "metadata": {},
   "source": [
    "### Postup řešení\n",
    "K řešení této úlohy si vystačíme s funkcí eig z knihovny scipy. Funkce nám pomocí nastavených parametrů left a right umožní zvolit, jestli se jedná o matici na levé nebo pravé straně vzorce v\\*A=lambda\\*v a na výstupu získat vektor vlastních čísel. Hodnoty na indexu 1 výstupu funkce je matice, kde hodnoty v prvním sloupci podělené součtem všech hodnot této matice na výstupu dávají hodnoty stacionárního rozdělení."
   ]
  },
  {
   "cell_type": "code",
   "execution_count": 8,
   "metadata": {},
   "outputs": [
    {
     "name": "stdout",
     "output_type": "stream",
     "text": [
      "Pi_i\tHodnota Pi_i\n",
      "0 \t 0.185701\n",
      "1 \t 0.067834\n",
      "2 \t 0.014868\n",
      "3 \t 0.015797\n",
      "4 \t 0.046926\n",
      "5 \t 0.102054\n",
      "6 \t 0.021217\n",
      "7 \t 0.021844\n",
      "8 \t 0.052158\n",
      "9 \t 0.045994\n",
      "10 \t 0.002323\n",
      "11 \t 0.008054\n",
      "12 \t 0.038558\n",
      "13 \t 0.016880\n",
      "14 \t 0.054979\n",
      "15 \t 0.061784\n",
      "16 \t 0.014094\n",
      "17 \t 0.000929\n",
      "18 \t 0.054220\n",
      "19 \t 0.045082\n",
      "20 \t 0.067368\n",
      "21 \t 0.024628\n",
      "22 \t 0.004646\n",
      "23 \t 0.018120\n",
      "24 \t 0.000155\n",
      "25 \t 0.012857\n",
      "26 \t 0.000929\n",
      "\n",
      "Součet prvků stacionárního rozdělení: 1.0\n"
     ]
    }
   ],
   "source": [
    "v = linalg.eig(M,left=True,right=False)[1][:,0]\n",
    "stationary = (v / sum(v))\n",
    "\n",
    "print(\"Pi_i\\tHodnota Pi_i\")\n",
    "for index, x in enumerate(stationary): print(index, \"\\t\", '{0:.6f}'.format(x.real))\n",
    "print(\"\\nSoučet prvků stacionárního rozdělení:\",sum(stationary.real).round(7))"
   ]
  },
  {
   "cell_type": "markdown",
   "metadata": {},
   "source": [
    "### 4. Porovnejte stacionární rozdělení se získaným empirickým rozdělením. Tj. na hladině 5% otestujte hypotézu, že se empirické rozdělení z bodu 1 rovná stacionárnímu rozdělení."
   ]
  },
  {
   "cell_type": "markdown",
   "metadata": {},
   "source": [
    "#### Postup řešení\n",
    "K porovnání dvou rozdělení využijeme testu dobré shody pomocí kontinkenční tabulky. Nejprve vytvoříme kontingenční tabulku, která má v prvním řádku 'pravděpodobnost' * 'počet písmen v textu'. Ve druhém řádku je 'Pi_i' * 'počet písmen v textu'. Takto vytvořenou tabulku je ještě třeba upravit, aby v každém políčku bylo alepoň 5. Poté provedeme test dobré shody kontingenční tabulkou pomocí funkce 'chi2_contingency'.\n"
   ]
  },
  {
   "cell_type": "code",
   "execution_count": 9,
   "metadata": {},
   "outputs": [
    {
     "name": "stdout",
     "output_type": "stream",
     "text": [
      "Kontingenční tabulka\n",
      "1199.000|438.000|96.000|102.000|303.000|659.000|137.000|141.000|337.000|297.000|15.000|52.000|249.000|109.000|355.000|399.000|91.000|6.000|350.000|291.000|436.000|159.000|30.000|117.000|1.000|83.000|6.000|\n",
      "1199.260|438.073|96.020|102.017|303.047|659.066|137.019|141.067|336.834|297.030|15.003|52.010|249.007|109.012|355.057|398.998|91.019|6.003|350.150|291.141|435.063|159.048|30.004|117.020|1.000|83.033|6.000|\n",
      "\n",
      "Kontingenční tabulka s alepoň 5 v každém políčku - spojené 'x' a 'z'\n",
      "1199.000|438.000|96.000|102.000|303.000|659.000|137.000|141.000|337.000|297.000|15.000|52.000|249.000|109.000|355.000|399.000|91.000|6.000|350.000|291.000|436.000|159.000|30.000|117.000|83.000|7.000|\n",
      "1199.260|438.073|96.020|102.017|303.047|659.066|137.019|141.067|336.834|297.030|15.003|52.010|249.007|109.012|355.057|398.998|91.019|6.003|350.150|291.141|435.063|159.048|30.004|117.020|83.033|7.001|\n",
      "\n",
      "\n",
      "Test dobré shody: \n",
      "Hodnota testové statistiky:  0.0012033525154421974\n",
      "p-hodnota: 1.0\n",
      "\n",
      "P-hodnota je nejnižší hodnota, kdy zamítáme H0.\n",
      "Testujeme na hladině významnosti 5%: 0.05 > p-hodnota, tedy NEzamítáme H0.\n",
      "NEzamítáme tedy, že empirické rozdělení se rovná stacionárnímu.\n",
      "P-hodnota vyšla 1, takže rozdělení jsou si tak podobná, že volba jakékoliv posuzovací hladiny by nulovou hypotézu NEzamítla.\n"
     ]
    }
   ],
   "source": [
    "# vytvoření datových struktur pro práci s daty\n",
    "empiric_list = list()\n",
    "stationary_list = list()\n",
    "Z_list = list()\n",
    "\n",
    "for x in enumerate(rel_data['percentage']):\n",
    "    empiric_list.append(x[1]/100*suma)\n",
    "\n",
    "for x in enumerate(stationary):\n",
    "    stationary_list.append(x[1].real*suma)\n",
    "\n",
    "cont_matrix = np.matrix([empiric_list,stationary_list])\n",
    "print(\"Kontingenční tabulka\")\n",
    "\n",
    "for x in range(0, 27):\n",
    "    print('{0:.3f}'.format(cont_matrix[0,x]), end='|')\n",
    "\n",
    "print()\n",
    "    \n",
    "for x in range(0, 27):\n",
    "    print('{0:.3f}'.format(cont_matrix[1,x]), end='|')\n",
    "\n",
    "print(\"\\n\")\n",
    "    \n",
    "#Chceme mit alespon 5 v kazdem policku konfing. tabulky\n",
    "temp_emp_list = list()\n",
    "temp_stat_list = list()\n",
    "\n",
    "for i in range (24):\n",
    "    temp_emp_list.append(cont_matrix[0,i])\n",
    "    temp_stat_list.append(cont_matrix[1,i])\n",
    "\n",
    "temp_emp_list.append(cont_matrix[0,25])\n",
    "temp_stat_list.append(cont_matrix[1,25])\n",
    "\n",
    "temp_emp_list.append(cont_matrix[0,24]+cont_matrix[0,26])\n",
    "temp_stat_list.append(cont_matrix[1,24]+cont_matrix[1,26])\n",
    "\n",
    "cont_matrix_new = np.matrix([temp_emp_list,temp_stat_list])\n",
    "print(\"Kontingenční tabulka s alepoň 5 v každém políčku - spojené 'x' a 'z'\")\n",
    "\n",
    "for x in range(0, 26):\n",
    "    print('{0:.3f}'.format(cont_matrix_new[0,x]), end='|')\n",
    "\n",
    "print()\n",
    "    \n",
    "for x in range(0, 26):\n",
    "    print('{0:.3f}'.format(cont_matrix_new[1,x]), end='|')\n",
    "\n",
    "print(\"\\n\\n\")\n",
    "\n",
    "print(\"Test dobré shody: \")\n",
    "s, p, d, e = stats.chi2_contingency(cont_matrix_new, correction = False)\n",
    "print(\"Hodnota testové statistiky: \", s)\n",
    "print(\"p-hodnota:\", p)\n",
    "print(\"\\nP-hodnota je nejnižší hodnota, kdy zamítáme H0.\")\n",
    "print(\"Testujeme na hladině významnosti 5%: 0.05 > p-hodnota, tedy \" + (\"\" if 0.05 > p else \"NE\") + \"zamítáme H0.\")\n",
    "print((\"Z\" if 0.05 > p else \"NEz\") + \"amítáme tedy, že empirické rozdělení se rovná stacionárnímu.\")\n",
    "print(\"P-hodnota vyšla 1, takže rozdělení jsou si tak podobná, že volba jakékoliv posuzovací hladiny by nulovou hypotézu NEzamítla.\")"
   ]
  },
  {
   "cell_type": "code",
   "execution_count": null,
   "metadata": {},
   "outputs": [],
   "source": []
  }
 ],
 "metadata": {
  "kernelspec": {
   "display_name": "Python 3",
   "language": "python",
   "name": "python3"
  },
  "language_info": {
   "codemirror_mode": {
    "name": "ipython",
    "version": 3
   },
   "file_extension": ".py",
   "mimetype": "text/x-python",
   "name": "python",
   "nbconvert_exporter": "python",
   "pygments_lexer": "ipython3",
   "version": "3.4.3"
  }
 },
 "nbformat": 4,
 "nbformat_minor": 2
}
