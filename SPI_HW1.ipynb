{
 "cells": [
  {
   "cell_type": "code",
   "execution_count": 6,
   "metadata": {},
   "outputs": [],
   "source": [
    "# autoři: Jan Kubát, Jan Matějka"
   ]
  },
  {
   "cell_type": "code",
   "execution_count": 7,
   "metadata": {},
   "outputs": [],
   "source": [
    "# importy potřebných knihoven\n",
    "import pandas\n",
    "import scipy\n",
    "import matplotlib.pyplot as plt\n",
    "import numpy as np\n",
    "from scipy import stats\n",
    "from operator import itemgetter\n",
    "from collections import Counter\n",
    "import copy"
   ]
  },
  {
   "cell_type": "code",
   "execution_count": 8,
   "metadata": {},
   "outputs": [
    {
     "name": "stdout",
     "output_type": "stream",
     "text": [
      "X =  1\n",
      "Y =  20\n"
     ]
    }
   ],
   "source": [
    "# výpočet hodnot pro vstupní data\n",
    "K = 8\n",
    "L = len(\"Kubát\")\n",
    "X = ((K*L*23) % 20) + 1\n",
    "Y = ((X + ((K*5 + L*7) % 19)) % 20) + 1\n",
    "print(\"X = \",X)\n",
    "print(\"Y = \",Y)"
   ]
  },
  {
   "cell_type": "code",
   "execution_count": 9,
   "metadata": {},
   "outputs": [
    {
     "name": "stdout",
     "output_type": "stream",
     "text": [
      "Prvních 20 slov v odstavci:\n",
      "        word  word_length\n",
      "0        the            3\n",
      "1   children            8\n",
      "2     called            6\n",
      "3        him            3\n",
      "4    pierrot            7\n",
      "5       from            4\n",
      "6        the            3\n",
      "7      first            5\n",
      "8       that            4\n",
      "9         is            2\n",
      "10        of            2\n",
      "11    course            6\n",
      "12        no            2\n",
      "13    proper            6\n",
      "14      name            4\n",
      "15       for            3\n",
      "16         a            1\n",
      "17   flemish            7\n",
      "18       dog            3\n",
      "19       but            3\n"
     ]
    }
   ],
   "source": [
    "# 1. Z obou datových souborů načtěte texty k analýze. Pro každý text zvlášť odhadněte základní \n",
    "#    charakteristiky délek slov, tj. střední hodnotu a rozptyl. Graficky znázorněte rozdělení délek slov.\n",
    "\n",
    "# X)\n",
    "# parsování vstupního souboru\n",
    "d = list()\n",
    "with open(\"hw1-source/00\" + str(X) + \".txt\") as f:\n",
    "    for line in f:\n",
    "        d.append(line)\n",
    "        \n",
    "# vytvoření kolekce slov s jejich délkou\n",
    "words = d[1].split(\" \")\n",
    "words_with_len = list()\n",
    "for word in words:\n",
    "    words_with_len.append((len(word), word))\n",
    "\n",
    "# vytvoření datové struktury k pohodlné práci s daty\n",
    "data = pandas.DataFrame([{'word_length': a, 'word': b}\n",
    "                  for a, b in words_with_len\n",
    "                  if True])\n",
    "print(\"Prvních 20 slov v odstavci:\")\n",
    "print(data[:20])\n",
    "\n",
    "# příprava dat pro histogram\n",
    "data_grouped = data.groupby('word_length').count()"
   ]
  },
  {
   "cell_type": "code",
   "execution_count": 10,
   "metadata": {},
   "outputs": [
    {
     "name": "stdout",
     "output_type": "stream",
     "text": [
      "Střední hodnota: 4.3825\n",
      "Rozptyl: 4.13619375\n"
     ]
    }
   ],
   "source": [
    "print('Střední hodnota: ' + str(np.mean(data['word_length'])))\n",
    "print('Rozptyl: ' + str(np.var(data['word_length'])))"
   ]
  },
  {
   "cell_type": "code",
   "execution_count": 11,
   "metadata": {},
   "outputs": [
    {
     "name": "stdout",
     "output_type": "stream",
     "text": [
      "[ 24. 163. 288. 261. 163. 113.  93.  41.  29.  12.  10.   2.   1.]\n"
     ]
    },
    {
     "data": {
      "image/png": "[encoded data removed]",
      "text/plain": [
       "<Figure size 432x288 with 1 Axes>"
      ]
     },
     "metadata": {
      "needs_background": "light"
     },
     "output_type": "display_data"
    }
   ],
   "source": [
    "# zobrazeni histogramu pro hodnotu X\n",
    "N, bins, patches = plt.hist(data['word_length'], bins=len(data_grouped), density = False)\n",
    "print(N)"
   ]
  },
  {
   "cell_type": "code",
   "execution_count": 12,
   "metadata": {},
   "outputs": [
    {
     "name": "stdout",
     "output_type": "stream",
     "text": [
      "Prvních 20 slov v odstavci:\n",
      "           word  word_length\n",
      "0           one            3\n",
      "1       morning            7\n",
      "2          when            4\n",
      "3        gregor            6\n",
      "4         samsa            5\n",
      "5          woke            4\n",
      "6          from            4\n",
      "7      troubled            8\n",
      "8        dreams            6\n",
      "9            he            2\n",
      "10        found            5\n",
      "11      himself            7\n",
      "12  transformed           11\n",
      "13           in            2\n",
      "14          his            3\n",
      "15          bed            3\n",
      "16         into            4\n",
      "17            a            1\n",
      "18     horrible            8\n",
      "19       vermin            6\n"
     ]
    }
   ],
   "source": [
    "# Y)\n",
    "# parsování vstupního souboru\n",
    "d = list()\n",
    "with open(\"hw1-source/0\" + str(Y) + \".txt\") as f:\n",
    "    for line in f:\n",
    "        d.append(line)\n",
    "        \n",
    "# vytvoření kolekce slov s jejich délkou\n",
    "words = d[1].split(\" \")\n",
    "words_with_len = list()\n",
    "for word in words:\n",
    "    words_with_len.append((len(word), word))\n",
    "\n",
    "# vytvoření datové struktury k pohodlné práci s daty\n",
    "data = pandas.DataFrame([{'word_length': a, 'word': b}\n",
    "                  for a, b in words_with_len\n",
    "                  if True])\n",
    "print(\"Prvních 20 slov v odstavci:\")\n",
    "print(data[:20])\n",
    "\n",
    "# příprava dat pro histogram\n",
    "data_grouped = data.groupby('word_length').count()"
   ]
  },
  {
   "cell_type": "code",
   "execution_count": 13,
   "metadata": {},
   "outputs": [
    {
     "name": "stdout",
     "output_type": "stream",
     "text": [
      "Střední hodnota: 4.043636363636364\n",
      "Rozptyl: 4.329004958677686\n"
     ]
    }
   ],
   "source": [
    "print('Střední hodnota: ' + str(np.mean(data['word_length'])))\n",
    "print('Rozptyl: ' + str(np.var(data['word_length'])))"
   ]
  },
  {
   "cell_type": "code",
   "execution_count": 14,
   "metadata": {},
   "outputs": [
    {
     "name": "stdout",
     "output_type": "stream",
     "text": [
      "[ 64. 204. 236. 234. 140.  81.  62.  38.  17.  16.   4.   2.   1.   1.]\n"
     ]
    },
    {
     "data": {
      "image/png": "[encoded data removed]",
      "text/plain": [
       "<Figure size 432x288 with 1 Axes>"
      ]
     },
     "metadata": {
      "needs_background": "light"
     },
     "output_type": "display_data"
    }
   ],
   "source": [
    "# zobrazeni histogramu pro hodnotu Y\n",
    "N, bins, patches = plt.hist(data['word_length'], bins=len(data_grouped), density = False)\n",
    "print(N)"
   ]
  },
  {
   "cell_type": "code",
   "execution_count": 15,
   "metadata": {},
   "outputs": [
    {
     "name": "stdout",
     "output_type": "stream",
     "text": [
      "Výčet znaků (bez mezery) a jejich četnost:\n",
      "    count letter\n",
      "0     438      a\n",
      "1      96      b\n",
      "2     102      c\n",
      "3     303      d\n",
      "4     659      e\n",
      "5     137      f\n",
      "6     141      g\n",
      "7     337      h\n",
      "8     297      i\n",
      "9      15      j\n",
      "10     52      k\n",
      "11    249      l\n",
      "12    109      m\n",
      "13    355      n\n",
      "14    399      o\n",
      "15     91      p\n",
      "16      6      q\n",
      "17    350      r\n",
      "18    291      s\n",
      "19    436      t\n",
      "20    159      u\n",
      "21     30      v\n",
      "22    117      w\n",
      "23      1      x\n",
      "24     83      y\n",
      "25      6      z\n",
      "\n",
      "Součet počtu písmen řetězce:  5259\n",
      "\n",
      "Výčet znaků (bez mezery) a jejich relativní četnost v (%):\n",
      "        count letter\n",
      "0    8.328580      a\n",
      "1    1.825442      b\n",
      "2    1.939532      c\n",
      "3    5.761552      d\n",
      "4   12.530899      e\n",
      "5    2.605058      f\n",
      "6    2.681118      g\n",
      "7    6.408062      h\n",
      "8    5.647461      i\n",
      "9    0.285225      j\n",
      "10   0.988781      k\n",
      "11   4.734740      l\n",
      "12   2.072637      m\n",
      "13   6.750333      n\n",
      "14   7.586994      o\n",
      "15   1.730367      p\n",
      "16   0.114090      q\n",
      "17   6.655258      r\n",
      "18   5.533371      s\n",
      "19   8.290550      t\n",
      "20   3.023388      u\n",
      "21   0.570451      v\n",
      "22   2.224758      w\n",
      "23   0.019015      x\n",
      "24   1.578247      y\n",
      "25   0.114090      z\n"
     ]
    }
   ],
   "source": [
    "# 2. Pro každý text zvlášť odhadněte pravděpodobnosti písmen (symbolů mimo mezery), které se v textech vyskytují. \n",
    "#    Výsledné pravděpodobnosti graficky znázorněte.\n",
    "\n",
    "# X)\n",
    "# parsování vstupního souboru\n",
    "d = list()\n",
    "with open(\"hw1-source/00\" + str(X) + \".txt\") as f:\n",
    "    for line in f:\n",
    "        d.append(line)\n",
    "        \n",
    "# vytvoření kolekce slov s jejich délkou\n",
    "string = d[1].replace(\" \", \"\")\n",
    "\n",
    "# třída Counter ze vstupního řetězce spočítá četnost jednotlivých znaků\n",
    "c = Counter(string)\n",
    "\n",
    "# vytvoření datové struktury k pohodlné práci s daty\n",
    "data = pandas.DataFrame([{'count': a, 'letter': b}\n",
    "                  for b, a in sorted(c.most_common(), key = lambda val : val[0])\n",
    "                  if True])\n",
    "print(\"Výčet znaků (bez mezery) a jejich četnost:\")\n",
    "print(data)\n",
    "\n",
    "suma = sum(data['count'])\n",
    "print('\\nSoučet počtu písmen řetězce: ', suma )\n",
    "\n",
    "rel_data = copy.deepcopy(data)\n",
    "rel_data['count'] = (data['count'] / suma) * 100\n",
    "\n",
    "print('\\nVýčet znaků (bez mezery) a jejich relativní četnost v (%):')\n",
    "print(rel_data)"
   ]
  },
  {
   "cell_type": "code",
   "execution_count": 16,
   "metadata": {},
   "outputs": [
    {
     "data": {
      "text/plain": [
       "Text(0.5,0,\"Index of letters from 'a'=0 to 'z'=25\")"
      ]
     },
     "execution_count": 16,
     "metadata": {},
     "output_type": "execute_result"
    },
    {
     "data": {
      "image/png": "[encoded data removed]",
      "text/plain": [
       "<Figure size 432x288 with 1 Axes>"
      ]
     },
     "metadata": {
      "needs_background": "light"
     },
     "output_type": "display_data"
    }
   ],
   "source": [
    "# zobrazeni grafu pro hodnotu X\n",
    "plt.plot(rel_data['count'], '*-')\n",
    "plt.ylabel('Probability (%)')\n",
    "plt.xlabel('Index of letters from \\'a\\'=0 to \\'z\\'=25')"
   ]
  },
  {
   "cell_type": "code",
   "execution_count": 17,
   "metadata": {},
   "outputs": [
    {
     "name": "stdout",
     "output_type": "stream",
     "text": [
      "Výčet znaků (bez mezery) a jejich četnost:\n",
      "    count letter\n",
      "0     341      a\n",
      "1      77      b\n",
      "2     110      c\n",
      "3     182      d\n",
      "4     550      e\n",
      "5     106      f\n",
      "6     105      g\n",
      "7     308      h\n",
      "8     284      i\n",
      "9       3      j\n",
      "10     47      k\n",
      "11    229      l\n",
      "12     95      m\n",
      "13    258      n\n",
      "14    342      o\n",
      "15     70      p\n",
      "16      7      q\n",
      "17    222      r\n",
      "18    269      s\n",
      "19    446      t\n",
      "20    151      u\n",
      "21     59      v\n",
      "22    102      w\n",
      "23      7      x\n",
      "24     75      y\n",
      "25      3      z\n",
      "\n",
      "Součet počtu písmen řetězce:  4448\n",
      "\n",
      "Výčet znaků (bez mezery) a jejich relativní četnost v (%):\n",
      "        count letter\n",
      "0    7.666367      a\n",
      "1    1.731115      b\n",
      "2    2.473022      c\n",
      "3    4.091727      d\n",
      "4   12.365108      e\n",
      "5    2.383094      f\n",
      "6    2.360612      g\n",
      "7    6.924460      h\n",
      "8    6.384892      i\n",
      "9    0.067446      j\n",
      "10   1.056655      k\n",
      "11   5.148381      l\n",
      "12   2.135791      m\n",
      "13   5.800360      n\n",
      "14   7.688849      o\n",
      "15   1.573741      p\n",
      "16   0.157374      q\n",
      "17   4.991007      r\n",
      "18   6.047662      s\n",
      "19  10.026978      t\n",
      "20   3.394784      u\n",
      "21   1.326439      v\n",
      "22   2.293165      w\n",
      "23   0.157374      x\n",
      "24   1.686151      y\n",
      "25   0.067446      z\n"
     ]
    }
   ],
   "source": [
    "# Y)\n",
    "# parsování vstupního souboru\n",
    "d = list()\n",
    "with open(\"hw1-source/0\" + str(Y) + \".txt\") as f:\n",
    "    for line in f:\n",
    "        d.append(line)\n",
    "        \n",
    "# vytvoření kolekce slov s jejich délkou\n",
    "string = d[1].replace(\" \", \"\")\n",
    "\n",
    "# třída Counter ze vstupního řetězce spočítá četnost jednotlivých znaků\n",
    "c = Counter(string)\n",
    "\n",
    "# vytvoření datové struktury k pohodlné práci s daty\n",
    "data = pandas.DataFrame([{'count': a, 'letter': b}\n",
    "                  for b, a in sorted(c.most_common(), key = lambda val : val[0])\n",
    "                  if True])\n",
    "print(\"Výčet znaků (bez mezery) a jejich četnost:\")\n",
    "print(data)\n",
    "\n",
    "suma = sum(data['count'])\n",
    "print('\\nSoučet počtu písmen řetězce: ', suma )\n",
    "\n",
    "rel_data = copy.deepcopy(data)\n",
    "rel_data['count'] = (data['count'] / suma) * 100\n",
    "\n",
    "print('\\nVýčet znaků (bez mezery) a jejich relativní četnost v (%):')\n",
    "print(rel_data)"
   ]
  },
  {
   "cell_type": "code",
   "execution_count": 18,
   "metadata": {},
   "outputs": [
    {
     "data": {
      "text/plain": [
       "Text(0.5,0,\"Index of letters from 'a'=0 to 'z'=25\")"
      ]
     },
     "execution_count": 18,
     "metadata": {},
     "output_type": "execute_result"
    },
    {
     "data": {
      "image/png": "[encoded data removed]",
      "text/plain": [
       "<Figure size 432x288 with 1 Axes>"
      ]
     },
     "metadata": {
      "needs_background": "light"
     },
     "output_type": "display_data"
    }
   ],
   "source": [
    "# zobrazeni grafu pro hodnotu Y\n",
    "plt.plot(rel_data['count'], '*-')\n",
    "plt.ylabel('Probability (%)')\n",
    "plt.xlabel('Index of letters from \\'a\\'=0 to \\'z\\'=25')"
   ]
  },
  {
   "cell_type": "code",
   "execution_count": 19,
   "metadata": {},
   "outputs": [],
   "source": [
    "# 3. Na hladině významnosti 5% otestujte hypotézu, že rozdělení délek slov nezávisí na tom, o který jde text. \n",
    "#    Určete také p-hodnotu testu.\n",
    "\n",
    "# X)"
   ]
  },
  {
   "cell_type": "code",
   "execution_count": null,
   "metadata": {},
   "outputs": [],
   "source": []
  }
 ],
 "metadata": {
  "kernelspec": {
   "display_name": "Python 3",
   "language": "python",
   "name": "python3"
  },
  "language_info": {
   "codemirror_mode": {
    "name": "ipython",
    "version": 3
   },
   "file_extension": ".py",
   "mimetype": "text/x-python",
   "name": "python",
   "nbconvert_exporter": "python",
   "pygments_lexer": "ipython3",
   "version": "3.4.3"
  }
 },
 "nbformat": 4,
 "nbformat_minor": 2
}
